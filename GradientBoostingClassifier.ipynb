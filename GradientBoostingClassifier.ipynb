{
  "nbformat": 4,
  "nbformat_minor": 0,
  "metadata": {
    "colab": {
      "name": "GradientBoostingClassifier.ipynb",
      "provenance": []
    },
    "kernelspec": {
      "name": "python3",
      "display_name": "Python 3"
    },
    "language_info": {
      "name": "python"
    }
  },
  "cells": [
    {
      "cell_type": "code",
      "execution_count": 1,
      "metadata": {
        "colab": {
          "resources": {
            "http://localhost:8080/nbextensions/google.colab/files.js": {
              "data": "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",
              "ok": true,
              "headers": [
                [
                  "content-type",
                  "application/javascript"
                ]
              ],
              "status": 200,
              "status_text": ""
            }
          },
          "base_uri": "https://localhost:8080/",
          "height": 73
        },
        "id": "dHZNgxeJOLtZ",
        "outputId": "d5580503-73c0-4a98-f1e4-7350e61ae8c1"
      },
      "outputs": [
        {
          "output_type": "display_data",
          "data": {
            "text/plain": [
              "<IPython.core.display.HTML object>"
            ],
            "text/html": [
              "\n",
              "     <input type=\"file\" id=\"files-5741a1c1-747f-492a-9f53-945b8e1404e2\" name=\"files[]\" multiple disabled\n",
              "        style=\"border:none\" />\n",
              "     <output id=\"result-5741a1c1-747f-492a-9f53-945b8e1404e2\">\n",
              "      Upload widget is only available when the cell has been executed in the\n",
              "      current browser session. Please rerun this cell to enable.\n",
              "      </output>\n",
              "      <script src=\"/nbextensions/google.colab/files.js\"></script> "
            ]
          },
          "metadata": {}
        },
        {
          "output_type": "stream",
          "name": "stdout",
          "text": [
            "Saving haberman.csv to haberman (1).csv\n"
          ]
        }
      ],
      "source": [
        "import pandas as pd\n",
        "import pandas as pd\n",
        "\n",
        "from google.colab import files\n",
        "data_to_load = files.upload()"
      ]
    },
    {
      "cell_type": "code",
      "source": [
        "filepath = 'haberman.csv'\n",
        "haberman = pd.read_csv(filepath)\n",
        "haberman.describe()"
      ],
      "metadata": {
        "colab": {
          "base_uri": "https://localhost:8080/",
          "height": 300
        },
        "id": "WtfjwimbPonU",
        "outputId": "8358b5f7-21ec-4659-b829-51f5d4010a22"
      },
      "execution_count": 2,
      "outputs": [
        {
          "output_type": "execute_result",
          "data": {
            "text/plain": [
              "       Umur Pasien Ketika Melakukan Operasi  2 Digit Angka Tahun operasi  \\\n",
              "count                            306.000000                   306.000000   \n",
              "mean                              52.457516                    62.852941   \n",
              "std                               10.803452                     3.249405   \n",
              "min                               30.000000                    58.000000   \n",
              "25%                               44.000000                    60.000000   \n",
              "50%                               52.000000                    63.000000   \n",
              "75%                               60.750000                    65.750000   \n",
              "max                               83.000000                    69.000000   \n",
              "\n",
              "       Jumlah \"kelenjar aksila positif\" yang terdeteksi      Status  \n",
              "count                                        306.000000  306.000000  \n",
              "mean                                           4.026144    1.264706  \n",
              "std                                            7.189654    0.441899  \n",
              "min                                            0.000000    1.000000  \n",
              "25%                                            0.000000    1.000000  \n",
              "50%                                            1.000000    1.000000  \n",
              "75%                                            4.000000    2.000000  \n",
              "max                                           52.000000    2.000000  "
            ],
            "text/html": [
              "\n",
              "  <div id=\"df-f7d18a6e-846d-46a9-8e7e-254c8c200a55\">\n",
              "    <div class=\"colab-df-container\">\n",
              "      <div>\n",
              "<style scoped>\n",
              "    .dataframe tbody tr th:only-of-type {\n",
              "        vertical-align: middle;\n",
              "    }\n",
              "\n",
              "    .dataframe tbody tr th {\n",
              "        vertical-align: top;\n",
              "    }\n",
              "\n",
              "    .dataframe thead th {\n",
              "        text-align: right;\n",
              "    }\n",
              "</style>\n",
              "<table border=\"1\" class=\"dataframe\">\n",
              "  <thead>\n",
              "    <tr style=\"text-align: right;\">\n",
              "      <th></th>\n",
              "      <th>Umur Pasien Ketika Melakukan Operasi</th>\n",
              "      <th>2 Digit Angka Tahun operasi</th>\n",
              "      <th>Jumlah \"kelenjar aksila positif\" yang terdeteksi</th>\n",
              "      <th>Status</th>\n",
              "    </tr>\n",
              "  </thead>\n",
              "  <tbody>\n",
              "    <tr>\n",
              "      <th>count</th>\n",
              "      <td>306.000000</td>\n",
              "      <td>306.000000</td>\n",
              "      <td>306.000000</td>\n",
              "      <td>306.000000</td>\n",
              "    </tr>\n",
              "    <tr>\n",
              "      <th>mean</th>\n",
              "      <td>52.457516</td>\n",
              "      <td>62.852941</td>\n",
              "      <td>4.026144</td>\n",
              "      <td>1.264706</td>\n",
              "    </tr>\n",
              "    <tr>\n",
              "      <th>std</th>\n",
              "      <td>10.803452</td>\n",
              "      <td>3.249405</td>\n",
              "      <td>7.189654</td>\n",
              "      <td>0.441899</td>\n",
              "    </tr>\n",
              "    <tr>\n",
              "      <th>min</th>\n",
              "      <td>30.000000</td>\n",
              "      <td>58.000000</td>\n",
              "      <td>0.000000</td>\n",
              "      <td>1.000000</td>\n",
              "    </tr>\n",
              "    <tr>\n",
              "      <th>25%</th>\n",
              "      <td>44.000000</td>\n",
              "      <td>60.000000</td>\n",
              "      <td>0.000000</td>\n",
              "      <td>1.000000</td>\n",
              "    </tr>\n",
              "    <tr>\n",
              "      <th>50%</th>\n",
              "      <td>52.000000</td>\n",
              "      <td>63.000000</td>\n",
              "      <td>1.000000</td>\n",
              "      <td>1.000000</td>\n",
              "    </tr>\n",
              "    <tr>\n",
              "      <th>75%</th>\n",
              "      <td>60.750000</td>\n",
              "      <td>65.750000</td>\n",
              "      <td>4.000000</td>\n",
              "      <td>2.000000</td>\n",
              "    </tr>\n",
              "    <tr>\n",
              "      <th>max</th>\n",
              "      <td>83.000000</td>\n",
              "      <td>69.000000</td>\n",
              "      <td>52.000000</td>\n",
              "      <td>2.000000</td>\n",
              "    </tr>\n",
              "  </tbody>\n",
              "</table>\n",
              "</div>\n",
              "      <button class=\"colab-df-convert\" onclick=\"convertToInteractive('df-f7d18a6e-846d-46a9-8e7e-254c8c200a55')\"\n",
              "              title=\"Convert this dataframe to an interactive table.\"\n",
              "              style=\"display:none;\">\n",
              "        \n",
              "  <svg xmlns=\"http://www.w3.org/2000/svg\" height=\"24px\"viewBox=\"0 0 24 24\"\n",
              "       width=\"24px\">\n",
              "    <path d=\"M0 0h24v24H0V0z\" fill=\"none\"/>\n",
              "    <path d=\"M18.56 5.44l.94 2.06.94-2.06 2.06-.94-2.06-.94-.94-2.06-.94 2.06-2.06.94zm-11 1L8.5 8.5l.94-2.06 2.06-.94-2.06-.94L8.5 2.5l-.94 2.06-2.06.94zm10 10l.94 2.06.94-2.06 2.06-.94-2.06-.94-.94-2.06-.94 2.06-2.06.94z\"/><path d=\"M17.41 7.96l-1.37-1.37c-.4-.4-.92-.59-1.43-.59-.52 0-1.04.2-1.43.59L10.3 9.45l-7.72 7.72c-.78.78-.78 2.05 0 2.83L4 21.41c.39.39.9.59 1.41.59.51 0 1.02-.2 1.41-.59l7.78-7.78 2.81-2.81c.8-.78.8-2.07 0-2.86zM5.41 20L4 18.59l7.72-7.72 1.47 1.35L5.41 20z\"/>\n",
              "  </svg>\n",
              "      </button>\n",
              "      \n",
              "  <style>\n",
              "    .colab-df-container {\n",
              "      display:flex;\n",
              "      flex-wrap:wrap;\n",
              "      gap: 12px;\n",
              "    }\n",
              "\n",
              "    .colab-df-convert {\n",
              "      background-color: #E8F0FE;\n",
              "      border: none;\n",
              "      border-radius: 50%;\n",
              "      cursor: pointer;\n",
              "      display: none;\n",
              "      fill: #1967D2;\n",
              "      height: 32px;\n",
              "      padding: 0 0 0 0;\n",
              "      width: 32px;\n",
              "    }\n",
              "\n",
              "    .colab-df-convert:hover {\n",
              "      background-color: #E2EBFA;\n",
              "      box-shadow: 0px 1px 2px rgba(60, 64, 67, 0.3), 0px 1px 3px 1px rgba(60, 64, 67, 0.15);\n",
              "      fill: #174EA6;\n",
              "    }\n",
              "\n",
              "    [theme=dark] .colab-df-convert {\n",
              "      background-color: #3B4455;\n",
              "      fill: #D2E3FC;\n",
              "    }\n",
              "\n",
              "    [theme=dark] .colab-df-convert:hover {\n",
              "      background-color: #434B5C;\n",
              "      box-shadow: 0px 1px 3px 1px rgba(0, 0, 0, 0.15);\n",
              "      filter: drop-shadow(0px 1px 2px rgba(0, 0, 0, 0.3));\n",
              "      fill: #FFFFFF;\n",
              "    }\n",
              "  </style>\n",
              "\n",
              "      <script>\n",
              "        const buttonEl =\n",
              "          document.querySelector('#df-f7d18a6e-846d-46a9-8e7e-254c8c200a55 button.colab-df-convert');\n",
              "        buttonEl.style.display =\n",
              "          google.colab.kernel.accessAllowed ? 'block' : 'none';\n",
              "\n",
              "        async function convertToInteractive(key) {\n",
              "          const element = document.querySelector('#df-f7d18a6e-846d-46a9-8e7e-254c8c200a55');\n",
              "          const dataTable =\n",
              "            await google.colab.kernel.invokeFunction('convertToInteractive',\n",
              "                                                     [key], {});\n",
              "          if (!dataTable) return;\n",
              "\n",
              "          const docLinkHtml = 'Like what you see? Visit the ' +\n",
              "            '<a target=\"_blank\" href=https://colab.research.google.com/notebooks/data_table.ipynb>data table notebook</a>'\n",
              "            + ' to learn more about interactive tables.';\n",
              "          element.innerHTML = '';\n",
              "          dataTable['output_type'] = 'display_data';\n",
              "          await google.colab.output.renderOutput(dataTable, element);\n",
              "          const docLink = document.createElement('div');\n",
              "          docLink.innerHTML = docLinkHtml;\n",
              "          element.appendChild(docLink);\n",
              "        }\n",
              "      </script>\n",
              "    </div>\n",
              "  </div>\n",
              "  "
            ]
          },
          "metadata": {},
          "execution_count": 2
        }
      ]
    },
    {
      "cell_type": "code",
      "source": [
        "haberman.columns"
      ],
      "metadata": {
        "colab": {
          "base_uri": "https://localhost:8080/"
        },
        "id": "BBwVy3LhQiIL",
        "outputId": "970df81f-baa0-4cc7-9013-5842d41abb3d"
      },
      "execution_count": 3,
      "outputs": [
        {
          "output_type": "execute_result",
          "data": {
            "text/plain": [
              "Index(['Umur Pasien Ketika Melakukan Operasi', '2 Digit Angka Tahun operasi',\n",
              "       'Jumlah \"kelenjar aksila positif\" yang terdeteksi', 'Status'],\n",
              "      dtype='object')"
            ]
          },
          "metadata": {},
          "execution_count": 3
        }
      ]
    },
    {
      "cell_type": "code",
      "source": [
        "haberman.info()"
      ],
      "metadata": {
        "colab": {
          "base_uri": "https://localhost:8080/"
        },
        "id": "Ng761GshQlca",
        "outputId": "0aa55be8-98a1-4133-88a5-b5462aae5af3"
      },
      "execution_count": 4,
      "outputs": [
        {
          "output_type": "stream",
          "name": "stdout",
          "text": [
            "<class 'pandas.core.frame.DataFrame'>\n",
            "RangeIndex: 306 entries, 0 to 305\n",
            "Data columns (total 4 columns):\n",
            " #   Column                                            Non-Null Count  Dtype\n",
            "---  ------                                            --------------  -----\n",
            " 0   Umur Pasien Ketika Melakukan Operasi              306 non-null    int64\n",
            " 1   2 Digit Angka Tahun operasi                       306 non-null    int64\n",
            " 2   Jumlah \"kelenjar aksila positif\" yang terdeteksi  306 non-null    int64\n",
            " 3   Status                                            306 non-null    int64\n",
            "dtypes: int64(4)\n",
            "memory usage: 9.7 KB\n"
          ]
        }
      ]
    },
    {
      "cell_type": "code",
      "source": [
        "haberman.head()"
      ],
      "metadata": {
        "colab": {
          "base_uri": "https://localhost:8080/",
          "height": 206
        },
        "id": "7cG48onYQoMA",
        "outputId": "8451abcb-6f02-46ee-f363-599e14e366ba"
      },
      "execution_count": 5,
      "outputs": [
        {
          "output_type": "execute_result",
          "data": {
            "text/plain": [
              "   Umur Pasien Ketika Melakukan Operasi  2 Digit Angka Tahun operasi  \\\n",
              "0                                    30                           64   \n",
              "1                                    30                           62   \n",
              "2                                    30                           65   \n",
              "3                                    31                           59   \n",
              "4                                    31                           65   \n",
              "\n",
              "   Jumlah \"kelenjar aksila positif\" yang terdeteksi  Status  \n",
              "0                                                 1       1  \n",
              "1                                                 3       1  \n",
              "2                                                 0       1  \n",
              "3                                                 2       1  \n",
              "4                                                 4       1  "
            ],
            "text/html": [
              "\n",
              "  <div id=\"df-a07e9327-f771-4a4e-b226-d057e3629819\">\n",
              "    <div class=\"colab-df-container\">\n",
              "      <div>\n",
              "<style scoped>\n",
              "    .dataframe tbody tr th:only-of-type {\n",
              "        vertical-align: middle;\n",
              "    }\n",
              "\n",
              "    .dataframe tbody tr th {\n",
              "        vertical-align: top;\n",
              "    }\n",
              "\n",
              "    .dataframe thead th {\n",
              "        text-align: right;\n",
              "    }\n",
              "</style>\n",
              "<table border=\"1\" class=\"dataframe\">\n",
              "  <thead>\n",
              "    <tr style=\"text-align: right;\">\n",
              "      <th></th>\n",
              "      <th>Umur Pasien Ketika Melakukan Operasi</th>\n",
              "      <th>2 Digit Angka Tahun operasi</th>\n",
              "      <th>Jumlah \"kelenjar aksila positif\" yang terdeteksi</th>\n",
              "      <th>Status</th>\n",
              "    </tr>\n",
              "  </thead>\n",
              "  <tbody>\n",
              "    <tr>\n",
              "      <th>0</th>\n",
              "      <td>30</td>\n",
              "      <td>64</td>\n",
              "      <td>1</td>\n",
              "      <td>1</td>\n",
              "    </tr>\n",
              "    <tr>\n",
              "      <th>1</th>\n",
              "      <td>30</td>\n",
              "      <td>62</td>\n",
              "      <td>3</td>\n",
              "      <td>1</td>\n",
              "    </tr>\n",
              "    <tr>\n",
              "      <th>2</th>\n",
              "      <td>30</td>\n",
              "      <td>65</td>\n",
              "      <td>0</td>\n",
              "      <td>1</td>\n",
              "    </tr>\n",
              "    <tr>\n",
              "      <th>3</th>\n",
              "      <td>31</td>\n",
              "      <td>59</td>\n",
              "      <td>2</td>\n",
              "      <td>1</td>\n",
              "    </tr>\n",
              "    <tr>\n",
              "      <th>4</th>\n",
              "      <td>31</td>\n",
              "      <td>65</td>\n",
              "      <td>4</td>\n",
              "      <td>1</td>\n",
              "    </tr>\n",
              "  </tbody>\n",
              "</table>\n",
              "</div>\n",
              "      <button class=\"colab-df-convert\" onclick=\"convertToInteractive('df-a07e9327-f771-4a4e-b226-d057e3629819')\"\n",
              "              title=\"Convert this dataframe to an interactive table.\"\n",
              "              style=\"display:none;\">\n",
              "        \n",
              "  <svg xmlns=\"http://www.w3.org/2000/svg\" height=\"24px\"viewBox=\"0 0 24 24\"\n",
              "       width=\"24px\">\n",
              "    <path d=\"M0 0h24v24H0V0z\" fill=\"none\"/>\n",
              "    <path d=\"M18.56 5.44l.94 2.06.94-2.06 2.06-.94-2.06-.94-.94-2.06-.94 2.06-2.06.94zm-11 1L8.5 8.5l.94-2.06 2.06-.94-2.06-.94L8.5 2.5l-.94 2.06-2.06.94zm10 10l.94 2.06.94-2.06 2.06-.94-2.06-.94-.94-2.06-.94 2.06-2.06.94z\"/><path d=\"M17.41 7.96l-1.37-1.37c-.4-.4-.92-.59-1.43-.59-.52 0-1.04.2-1.43.59L10.3 9.45l-7.72 7.72c-.78.78-.78 2.05 0 2.83L4 21.41c.39.39.9.59 1.41.59.51 0 1.02-.2 1.41-.59l7.78-7.78 2.81-2.81c.8-.78.8-2.07 0-2.86zM5.41 20L4 18.59l7.72-7.72 1.47 1.35L5.41 20z\"/>\n",
              "  </svg>\n",
              "      </button>\n",
              "      \n",
              "  <style>\n",
              "    .colab-df-container {\n",
              "      display:flex;\n",
              "      flex-wrap:wrap;\n",
              "      gap: 12px;\n",
              "    }\n",
              "\n",
              "    .colab-df-convert {\n",
              "      background-color: #E8F0FE;\n",
              "      border: none;\n",
              "      border-radius: 50%;\n",
              "      cursor: pointer;\n",
              "      display: none;\n",
              "      fill: #1967D2;\n",
              "      height: 32px;\n",
              "      padding: 0 0 0 0;\n",
              "      width: 32px;\n",
              "    }\n",
              "\n",
              "    .colab-df-convert:hover {\n",
              "      background-color: #E2EBFA;\n",
              "      box-shadow: 0px 1px 2px rgba(60, 64, 67, 0.3), 0px 1px 3px 1px rgba(60, 64, 67, 0.15);\n",
              "      fill: #174EA6;\n",
              "    }\n",
              "\n",
              "    [theme=dark] .colab-df-convert {\n",
              "      background-color: #3B4455;\n",
              "      fill: #D2E3FC;\n",
              "    }\n",
              "\n",
              "    [theme=dark] .colab-df-convert:hover {\n",
              "      background-color: #434B5C;\n",
              "      box-shadow: 0px 1px 3px 1px rgba(0, 0, 0, 0.15);\n",
              "      filter: drop-shadow(0px 1px 2px rgba(0, 0, 0, 0.3));\n",
              "      fill: #FFFFFF;\n",
              "    }\n",
              "  </style>\n",
              "\n",
              "      <script>\n",
              "        const buttonEl =\n",
              "          document.querySelector('#df-a07e9327-f771-4a4e-b226-d057e3629819 button.colab-df-convert');\n",
              "        buttonEl.style.display =\n",
              "          google.colab.kernel.accessAllowed ? 'block' : 'none';\n",
              "\n",
              "        async function convertToInteractive(key) {\n",
              "          const element = document.querySelector('#df-a07e9327-f771-4a4e-b226-d057e3629819');\n",
              "          const dataTable =\n",
              "            await google.colab.kernel.invokeFunction('convertToInteractive',\n",
              "                                                     [key], {});\n",
              "          if (!dataTable) return;\n",
              "\n",
              "          const docLinkHtml = 'Like what you see? Visit the ' +\n",
              "            '<a target=\"_blank\" href=https://colab.research.google.com/notebooks/data_table.ipynb>data table notebook</a>'\n",
              "            + ' to learn more about interactive tables.';\n",
              "          element.innerHTML = '';\n",
              "          dataTable['output_type'] = 'display_data';\n",
              "          await google.colab.output.renderOutput(dataTable, element);\n",
              "          const docLink = document.createElement('div');\n",
              "          docLink.innerHTML = docLinkHtml;\n",
              "          element.appendChild(docLink);\n",
              "        }\n",
              "      </script>\n",
              "    </div>\n",
              "  </div>\n",
              "  "
            ]
          },
          "metadata": {},
          "execution_count": 5
        }
      ]
    },
    {
      "cell_type": "code",
      "source": [
        "y=haberman.Status"
      ],
      "metadata": {
        "id": "rXyCCTZUQx-3"
      },
      "execution_count": 6,
      "outputs": []
    },
    {
      "cell_type": "code",
      "source": [
        "haberman_features=['Umur Pasien Ketika Melakukan Operasi', '2 Digit Angka Tahun operasi', 'Jumlah \"kelenjar aksila positif\" yang terdeteksi']"
      ],
      "metadata": {
        "id": "ZHZiC2ZOQ-TP"
      },
      "execution_count": 7,
      "outputs": []
    },
    {
      "cell_type": "code",
      "source": [
        "X=haberman[haberman_features]"
      ],
      "metadata": {
        "id": "M3YKpNdzRTaZ"
      },
      "execution_count": 8,
      "outputs": []
    },
    {
      "cell_type": "code",
      "source": [
        "X.describe()"
      ],
      "metadata": {
        "colab": {
          "base_uri": "https://localhost:8080/",
          "height": 300
        },
        "id": "A3YPKmRnRZiO",
        "outputId": "bcfcb2da-9670-40ae-8300-735b554f1809"
      },
      "execution_count": 9,
      "outputs": [
        {
          "output_type": "execute_result",
          "data": {
            "text/plain": [
              "       Umur Pasien Ketika Melakukan Operasi  2 Digit Angka Tahun operasi  \\\n",
              "count                            306.000000                   306.000000   \n",
              "mean                              52.457516                    62.852941   \n",
              "std                               10.803452                     3.249405   \n",
              "min                               30.000000                    58.000000   \n",
              "25%                               44.000000                    60.000000   \n",
              "50%                               52.000000                    63.000000   \n",
              "75%                               60.750000                    65.750000   \n",
              "max                               83.000000                    69.000000   \n",
              "\n",
              "       Jumlah \"kelenjar aksila positif\" yang terdeteksi  \n",
              "count                                        306.000000  \n",
              "mean                                           4.026144  \n",
              "std                                            7.189654  \n",
              "min                                            0.000000  \n",
              "25%                                            0.000000  \n",
              "50%                                            1.000000  \n",
              "75%                                            4.000000  \n",
              "max                                           52.000000  "
            ],
            "text/html": [
              "\n",
              "  <div id=\"df-f6da14f6-a9cd-4b73-89b1-b73bcc9450dd\">\n",
              "    <div class=\"colab-df-container\">\n",
              "      <div>\n",
              "<style scoped>\n",
              "    .dataframe tbody tr th:only-of-type {\n",
              "        vertical-align: middle;\n",
              "    }\n",
              "\n",
              "    .dataframe tbody tr th {\n",
              "        vertical-align: top;\n",
              "    }\n",
              "\n",
              "    .dataframe thead th {\n",
              "        text-align: right;\n",
              "    }\n",
              "</style>\n",
              "<table border=\"1\" class=\"dataframe\">\n",
              "  <thead>\n",
              "    <tr style=\"text-align: right;\">\n",
              "      <th></th>\n",
              "      <th>Umur Pasien Ketika Melakukan Operasi</th>\n",
              "      <th>2 Digit Angka Tahun operasi</th>\n",
              "      <th>Jumlah \"kelenjar aksila positif\" yang terdeteksi</th>\n",
              "    </tr>\n",
              "  </thead>\n",
              "  <tbody>\n",
              "    <tr>\n",
              "      <th>count</th>\n",
              "      <td>306.000000</td>\n",
              "      <td>306.000000</td>\n",
              "      <td>306.000000</td>\n",
              "    </tr>\n",
              "    <tr>\n",
              "      <th>mean</th>\n",
              "      <td>52.457516</td>\n",
              "      <td>62.852941</td>\n",
              "      <td>4.026144</td>\n",
              "    </tr>\n",
              "    <tr>\n",
              "      <th>std</th>\n",
              "      <td>10.803452</td>\n",
              "      <td>3.249405</td>\n",
              "      <td>7.189654</td>\n",
              "    </tr>\n",
              "    <tr>\n",
              "      <th>min</th>\n",
              "      <td>30.000000</td>\n",
              "      <td>58.000000</td>\n",
              "      <td>0.000000</td>\n",
              "    </tr>\n",
              "    <tr>\n",
              "      <th>25%</th>\n",
              "      <td>44.000000</td>\n",
              "      <td>60.000000</td>\n",
              "      <td>0.000000</td>\n",
              "    </tr>\n",
              "    <tr>\n",
              "      <th>50%</th>\n",
              "      <td>52.000000</td>\n",
              "      <td>63.000000</td>\n",
              "      <td>1.000000</td>\n",
              "    </tr>\n",
              "    <tr>\n",
              "      <th>75%</th>\n",
              "      <td>60.750000</td>\n",
              "      <td>65.750000</td>\n",
              "      <td>4.000000</td>\n",
              "    </tr>\n",
              "    <tr>\n",
              "      <th>max</th>\n",
              "      <td>83.000000</td>\n",
              "      <td>69.000000</td>\n",
              "      <td>52.000000</td>\n",
              "    </tr>\n",
              "  </tbody>\n",
              "</table>\n",
              "</div>\n",
              "      <button class=\"colab-df-convert\" onclick=\"convertToInteractive('df-f6da14f6-a9cd-4b73-89b1-b73bcc9450dd')\"\n",
              "              title=\"Convert this dataframe to an interactive table.\"\n",
              "              style=\"display:none;\">\n",
              "        \n",
              "  <svg xmlns=\"http://www.w3.org/2000/svg\" height=\"24px\"viewBox=\"0 0 24 24\"\n",
              "       width=\"24px\">\n",
              "    <path d=\"M0 0h24v24H0V0z\" fill=\"none\"/>\n",
              "    <path d=\"M18.56 5.44l.94 2.06.94-2.06 2.06-.94-2.06-.94-.94-2.06-.94 2.06-2.06.94zm-11 1L8.5 8.5l.94-2.06 2.06-.94-2.06-.94L8.5 2.5l-.94 2.06-2.06.94zm10 10l.94 2.06.94-2.06 2.06-.94-2.06-.94-.94-2.06-.94 2.06-2.06.94z\"/><path d=\"M17.41 7.96l-1.37-1.37c-.4-.4-.92-.59-1.43-.59-.52 0-1.04.2-1.43.59L10.3 9.45l-7.72 7.72c-.78.78-.78 2.05 0 2.83L4 21.41c.39.39.9.59 1.41.59.51 0 1.02-.2 1.41-.59l7.78-7.78 2.81-2.81c.8-.78.8-2.07 0-2.86zM5.41 20L4 18.59l7.72-7.72 1.47 1.35L5.41 20z\"/>\n",
              "  </svg>\n",
              "      </button>\n",
              "      \n",
              "  <style>\n",
              "    .colab-df-container {\n",
              "      display:flex;\n",
              "      flex-wrap:wrap;\n",
              "      gap: 12px;\n",
              "    }\n",
              "\n",
              "    .colab-df-convert {\n",
              "      background-color: #E8F0FE;\n",
              "      border: none;\n",
              "      border-radius: 50%;\n",
              "      cursor: pointer;\n",
              "      display: none;\n",
              "      fill: #1967D2;\n",
              "      height: 32px;\n",
              "      padding: 0 0 0 0;\n",
              "      width: 32px;\n",
              "    }\n",
              "\n",
              "    .colab-df-convert:hover {\n",
              "      background-color: #E2EBFA;\n",
              "      box-shadow: 0px 1px 2px rgba(60, 64, 67, 0.3), 0px 1px 3px 1px rgba(60, 64, 67, 0.15);\n",
              "      fill: #174EA6;\n",
              "    }\n",
              "\n",
              "    [theme=dark] .colab-df-convert {\n",
              "      background-color: #3B4455;\n",
              "      fill: #D2E3FC;\n",
              "    }\n",
              "\n",
              "    [theme=dark] .colab-df-convert:hover {\n",
              "      background-color: #434B5C;\n",
              "      box-shadow: 0px 1px 3px 1px rgba(0, 0, 0, 0.15);\n",
              "      filter: drop-shadow(0px 1px 2px rgba(0, 0, 0, 0.3));\n",
              "      fill: #FFFFFF;\n",
              "    }\n",
              "  </style>\n",
              "\n",
              "      <script>\n",
              "        const buttonEl =\n",
              "          document.querySelector('#df-f6da14f6-a9cd-4b73-89b1-b73bcc9450dd button.colab-df-convert');\n",
              "        buttonEl.style.display =\n",
              "          google.colab.kernel.accessAllowed ? 'block' : 'none';\n",
              "\n",
              "        async function convertToInteractive(key) {\n",
              "          const element = document.querySelector('#df-f6da14f6-a9cd-4b73-89b1-b73bcc9450dd');\n",
              "          const dataTable =\n",
              "            await google.colab.kernel.invokeFunction('convertToInteractive',\n",
              "                                                     [key], {});\n",
              "          if (!dataTable) return;\n",
              "\n",
              "          const docLinkHtml = 'Like what you see? Visit the ' +\n",
              "            '<a target=\"_blank\" href=https://colab.research.google.com/notebooks/data_table.ipynb>data table notebook</a>'\n",
              "            + ' to learn more about interactive tables.';\n",
              "          element.innerHTML = '';\n",
              "          dataTable['output_type'] = 'display_data';\n",
              "          await google.colab.output.renderOutput(dataTable, element);\n",
              "          const docLink = document.createElement('div');\n",
              "          docLink.innerHTML = docLinkHtml;\n",
              "          element.appendChild(docLink);\n",
              "        }\n",
              "      </script>\n",
              "    </div>\n",
              "  </div>\n",
              "  "
            ]
          },
          "metadata": {},
          "execution_count": 9
        }
      ]
    },
    {
      "cell_type": "code",
      "source": [
        "X.head()"
      ],
      "metadata": {
        "colab": {
          "base_uri": "https://localhost:8080/",
          "height": 206
        },
        "id": "Ouu6svmIRfI0",
        "outputId": "b903bd45-560f-41c7-e677-450107c03c57"
      },
      "execution_count": 10,
      "outputs": [
        {
          "output_type": "execute_result",
          "data": {
            "text/plain": [
              "   Umur Pasien Ketika Melakukan Operasi  2 Digit Angka Tahun operasi  \\\n",
              "0                                    30                           64   \n",
              "1                                    30                           62   \n",
              "2                                    30                           65   \n",
              "3                                    31                           59   \n",
              "4                                    31                           65   \n",
              "\n",
              "   Jumlah \"kelenjar aksila positif\" yang terdeteksi  \n",
              "0                                                 1  \n",
              "1                                                 3  \n",
              "2                                                 0  \n",
              "3                                                 2  \n",
              "4                                                 4  "
            ],
            "text/html": [
              "\n",
              "  <div id=\"df-b4e8fa66-e69d-446e-a7ed-fb3771861afa\">\n",
              "    <div class=\"colab-df-container\">\n",
              "      <div>\n",
              "<style scoped>\n",
              "    .dataframe tbody tr th:only-of-type {\n",
              "        vertical-align: middle;\n",
              "    }\n",
              "\n",
              "    .dataframe tbody tr th {\n",
              "        vertical-align: top;\n",
              "    }\n",
              "\n",
              "    .dataframe thead th {\n",
              "        text-align: right;\n",
              "    }\n",
              "</style>\n",
              "<table border=\"1\" class=\"dataframe\">\n",
              "  <thead>\n",
              "    <tr style=\"text-align: right;\">\n",
              "      <th></th>\n",
              "      <th>Umur Pasien Ketika Melakukan Operasi</th>\n",
              "      <th>2 Digit Angka Tahun operasi</th>\n",
              "      <th>Jumlah \"kelenjar aksila positif\" yang terdeteksi</th>\n",
              "    </tr>\n",
              "  </thead>\n",
              "  <tbody>\n",
              "    <tr>\n",
              "      <th>0</th>\n",
              "      <td>30</td>\n",
              "      <td>64</td>\n",
              "      <td>1</td>\n",
              "    </tr>\n",
              "    <tr>\n",
              "      <th>1</th>\n",
              "      <td>30</td>\n",
              "      <td>62</td>\n",
              "      <td>3</td>\n",
              "    </tr>\n",
              "    <tr>\n",
              "      <th>2</th>\n",
              "      <td>30</td>\n",
              "      <td>65</td>\n",
              "      <td>0</td>\n",
              "    </tr>\n",
              "    <tr>\n",
              "      <th>3</th>\n",
              "      <td>31</td>\n",
              "      <td>59</td>\n",
              "      <td>2</td>\n",
              "    </tr>\n",
              "    <tr>\n",
              "      <th>4</th>\n",
              "      <td>31</td>\n",
              "      <td>65</td>\n",
              "      <td>4</td>\n",
              "    </tr>\n",
              "  </tbody>\n",
              "</table>\n",
              "</div>\n",
              "      <button class=\"colab-df-convert\" onclick=\"convertToInteractive('df-b4e8fa66-e69d-446e-a7ed-fb3771861afa')\"\n",
              "              title=\"Convert this dataframe to an interactive table.\"\n",
              "              style=\"display:none;\">\n",
              "        \n",
              "  <svg xmlns=\"http://www.w3.org/2000/svg\" height=\"24px\"viewBox=\"0 0 24 24\"\n",
              "       width=\"24px\">\n",
              "    <path d=\"M0 0h24v24H0V0z\" fill=\"none\"/>\n",
              "    <path d=\"M18.56 5.44l.94 2.06.94-2.06 2.06-.94-2.06-.94-.94-2.06-.94 2.06-2.06.94zm-11 1L8.5 8.5l.94-2.06 2.06-.94-2.06-.94L8.5 2.5l-.94 2.06-2.06.94zm10 10l.94 2.06.94-2.06 2.06-.94-2.06-.94-.94-2.06-.94 2.06-2.06.94z\"/><path d=\"M17.41 7.96l-1.37-1.37c-.4-.4-.92-.59-1.43-.59-.52 0-1.04.2-1.43.59L10.3 9.45l-7.72 7.72c-.78.78-.78 2.05 0 2.83L4 21.41c.39.39.9.59 1.41.59.51 0 1.02-.2 1.41-.59l7.78-7.78 2.81-2.81c.8-.78.8-2.07 0-2.86zM5.41 20L4 18.59l7.72-7.72 1.47 1.35L5.41 20z\"/>\n",
              "  </svg>\n",
              "      </button>\n",
              "      \n",
              "  <style>\n",
              "    .colab-df-container {\n",
              "      display:flex;\n",
              "      flex-wrap:wrap;\n",
              "      gap: 12px;\n",
              "    }\n",
              "\n",
              "    .colab-df-convert {\n",
              "      background-color: #E8F0FE;\n",
              "      border: none;\n",
              "      border-radius: 50%;\n",
              "      cursor: pointer;\n",
              "      display: none;\n",
              "      fill: #1967D2;\n",
              "      height: 32px;\n",
              "      padding: 0 0 0 0;\n",
              "      width: 32px;\n",
              "    }\n",
              "\n",
              "    .colab-df-convert:hover {\n",
              "      background-color: #E2EBFA;\n",
              "      box-shadow: 0px 1px 2px rgba(60, 64, 67, 0.3), 0px 1px 3px 1px rgba(60, 64, 67, 0.15);\n",
              "      fill: #174EA6;\n",
              "    }\n",
              "\n",
              "    [theme=dark] .colab-df-convert {\n",
              "      background-color: #3B4455;\n",
              "      fill: #D2E3FC;\n",
              "    }\n",
              "\n",
              "    [theme=dark] .colab-df-convert:hover {\n",
              "      background-color: #434B5C;\n",
              "      box-shadow: 0px 1px 3px 1px rgba(0, 0, 0, 0.15);\n",
              "      filter: drop-shadow(0px 1px 2px rgba(0, 0, 0, 0.3));\n",
              "      fill: #FFFFFF;\n",
              "    }\n",
              "  </style>\n",
              "\n",
              "      <script>\n",
              "        const buttonEl =\n",
              "          document.querySelector('#df-b4e8fa66-e69d-446e-a7ed-fb3771861afa button.colab-df-convert');\n",
              "        buttonEl.style.display =\n",
              "          google.colab.kernel.accessAllowed ? 'block' : 'none';\n",
              "\n",
              "        async function convertToInteractive(key) {\n",
              "          const element = document.querySelector('#df-b4e8fa66-e69d-446e-a7ed-fb3771861afa');\n",
              "          const dataTable =\n",
              "            await google.colab.kernel.invokeFunction('convertToInteractive',\n",
              "                                                     [key], {});\n",
              "          if (!dataTable) return;\n",
              "\n",
              "          const docLinkHtml = 'Like what you see? Visit the ' +\n",
              "            '<a target=\"_blank\" href=https://colab.research.google.com/notebooks/data_table.ipynb>data table notebook</a>'\n",
              "            + ' to learn more about interactive tables.';\n",
              "          element.innerHTML = '';\n",
              "          dataTable['output_type'] = 'display_data';\n",
              "          await google.colab.output.renderOutput(dataTable, element);\n",
              "          const docLink = document.createElement('div');\n",
              "          docLink.innerHTML = docLinkHtml;\n",
              "          element.appendChild(docLink);\n",
              "        }\n",
              "      </script>\n",
              "    </div>\n",
              "  </div>\n",
              "  "
            ]
          },
          "metadata": {},
          "execution_count": 10
        }
      ]
    },
    {
      "cell_type": "code",
      "source": [
        "from sklearn import tree \n",
        "clf = tree.DecisionTreeClassifier()\n",
        "clf = clf.fit(X, y)"
      ],
      "metadata": {
        "id": "zlRJOs3mRlCf"
      },
      "execution_count": 11,
      "outputs": []
    },
    {
      "cell_type": "code",
      "source": [
        "tree.plot_tree(clf)"
      ],
      "metadata": {
        "colab": {
          "base_uri": "https://localhost:8080/",
          "height": 1000
        },
        "id": "buLpB_9rRy0k",
        "outputId": "943db3ee-09d6-4391-82ed-eecce771336b"
      },
      "execution_count": 12,
      "outputs": [
        {
          "output_type": "execute_result",
          "data": {
            "text/plain": [
              "[Text(0.7012335526315789, 0.96875, 'X[2] <= 4.5\\ngini = 0.389\\nsamples = 306\\nvalue = [225, 81]'),\n",
              " Text(0.5182565789473684, 0.90625, 'X[0] <= 77.5\\ngini = 0.299\\nsamples = 230\\nvalue = [188, 42]'),\n",
              " Text(0.5077302631578947, 0.84375, 'X[2] <= 2.5\\ngini = 0.289\\nsamples = 228\\nvalue = [188, 40]'),\n",
              " Text(0.3338815789473684, 0.78125, 'X[0] <= 47.5\\ngini = 0.26\\nsamples = 195\\nvalue = [165, 30]'),\n",
              " Text(0.13815789473684212, 0.71875, 'X[0] <= 40.5\\ngini = 0.331\\nsamples = 67\\nvalue = [53, 14]'),\n",
              " Text(0.06315789473684211, 0.65625, 'X[1] <= 65.5\\ngini = 0.133\\nsamples = 28\\nvalue = [26, 2]'),\n",
              " Text(0.042105263157894736, 0.59375, 'X[0] <= 34.5\\ngini = 0.08\\nsamples = 24\\nvalue = [23, 1]'),\n",
              " Text(0.031578947368421054, 0.53125, 'X[1] <= 59.5\\ngini = 0.245\\nsamples = 7\\nvalue = [6, 1]'),\n",
              " Text(0.021052631578947368, 0.46875, 'X[0] <= 32.5\\ngini = 0.5\\nsamples = 2\\nvalue = [1, 1]'),\n",
              " Text(0.010526315789473684, 0.40625, 'gini = 0.0\\nsamples = 1\\nvalue = [1, 0]'),\n",
              " Text(0.031578947368421054, 0.40625, 'gini = 0.0\\nsamples = 1\\nvalue = [0, 1]'),\n",
              " Text(0.042105263157894736, 0.46875, 'gini = 0.0\\nsamples = 5\\nvalue = [5, 0]'),\n",
              " Text(0.05263157894736842, 0.53125, 'gini = 0.0\\nsamples = 17\\nvalue = [17, 0]'),\n",
              " Text(0.08421052631578947, 0.59375, 'X[0] <= 38.5\\ngini = 0.375\\nsamples = 4\\nvalue = [3, 1]'),\n",
              " Text(0.07368421052631578, 0.53125, 'gini = 0.0\\nsamples = 2\\nvalue = [2, 0]'),\n",
              " Text(0.09473684210526316, 0.53125, 'X[1] <= 66.5\\ngini = 0.5\\nsamples = 2\\nvalue = [1, 1]'),\n",
              " Text(0.08421052631578947, 0.46875, 'gini = 0.0\\nsamples = 1\\nvalue = [0, 1]'),\n",
              " Text(0.10526315789473684, 0.46875, 'gini = 0.0\\nsamples = 1\\nvalue = [1, 0]'),\n",
              " Text(0.2131578947368421, 0.65625, 'X[1] <= 68.5\\ngini = 0.426\\nsamples = 39\\nvalue = [27, 12]'),\n",
              " Text(0.2026315789473684, 0.59375, 'X[1] <= 63.5\\ngini = 0.411\\nsamples = 38\\nvalue = [27, 11]'),\n",
              " Text(0.14736842105263157, 0.53125, 'X[1] <= 59.5\\ngini = 0.332\\nsamples = 19\\nvalue = [15, 4]'),\n",
              " Text(0.12631578947368421, 0.46875, 'X[0] <= 42.5\\ngini = 0.49\\nsamples = 7\\nvalue = [4, 3]'),\n",
              " Text(0.11578947368421053, 0.40625, 'X[0] <= 41.5\\ngini = 0.32\\nsamples = 5\\nvalue = [4, 1]'),\n",
              " Text(0.10526315789473684, 0.34375, 'gini = 0.0\\nsamples = 2\\nvalue = [2, 0]'),\n",
              " Text(0.12631578947368421, 0.34375, 'X[1] <= 58.5\\ngini = 0.444\\nsamples = 3\\nvalue = [2, 1]'),\n",
              " Text(0.11578947368421053, 0.28125, 'gini = 0.0\\nsamples = 1\\nvalue = [1, 0]'),\n",
              " Text(0.1368421052631579, 0.28125, 'X[2] <= 1.0\\ngini = 0.5\\nsamples = 2\\nvalue = [1, 1]'),\n",
              " Text(0.12631578947368421, 0.21875, 'gini = 0.0\\nsamples = 1\\nvalue = [0, 1]'),\n",
              " Text(0.14736842105263157, 0.21875, 'gini = 0.0\\nsamples = 1\\nvalue = [1, 0]'),\n",
              " Text(0.1368421052631579, 0.40625, 'gini = 0.0\\nsamples = 2\\nvalue = [0, 2]'),\n",
              " Text(0.16842105263157894, 0.46875, 'X[0] <= 46.5\\ngini = 0.153\\nsamples = 12\\nvalue = [11, 1]'),\n",
              " Text(0.15789473684210525, 0.40625, 'gini = 0.0\\nsamples = 10\\nvalue = [10, 0]'),\n",
              " Text(0.17894736842105263, 0.40625, 'X[1] <= 61.5\\ngini = 0.5\\nsamples = 2\\nvalue = [1, 1]'),\n",
              " Text(0.16842105263157894, 0.34375, 'gini = 0.0\\nsamples = 1\\nvalue = [1, 0]'),\n",
              " Text(0.18947368421052632, 0.34375, 'gini = 0.0\\nsamples = 1\\nvalue = [0, 1]'),\n",
              " Text(0.2578947368421053, 0.53125, 'X[1] <= 64.5\\ngini = 0.465\\nsamples = 19\\nvalue = [12, 7]'),\n",
              " Text(0.23157894736842105, 0.46875, 'X[2] <= 1.0\\ngini = 0.5\\nsamples = 6\\nvalue = [3, 3]'),\n",
              " Text(0.22105263157894736, 0.40625, 'X[0] <= 44.0\\ngini = 0.48\\nsamples = 5\\nvalue = [2, 3]'),\n",
              " Text(0.21052631578947367, 0.34375, 'X[0] <= 42.0\\ngini = 0.375\\nsamples = 4\\nvalue = [1, 3]'),\n",
              " Text(0.2, 0.28125, 'gini = 0.5\\nsamples = 2\\nvalue = [1, 1]'),\n",
              " Text(0.22105263157894736, 0.28125, 'gini = 0.0\\nsamples = 2\\nvalue = [0, 2]'),\n",
              " Text(0.23157894736842105, 0.34375, 'gini = 0.0\\nsamples = 1\\nvalue = [1, 0]'),\n",
              " Text(0.24210526315789474, 0.40625, 'gini = 0.0\\nsamples = 1\\nvalue = [1, 0]'),\n",
              " Text(0.28421052631578947, 0.46875, 'X[1] <= 67.5\\ngini = 0.426\\nsamples = 13\\nvalue = [9, 4]'),\n",
              " Text(0.2736842105263158, 0.40625, 'X[1] <= 65.5\\ngini = 0.444\\nsamples = 12\\nvalue = [8, 4]'),\n",
              " Text(0.25263157894736843, 0.34375, 'X[0] <= 45.0\\ngini = 0.32\\nsamples = 5\\nvalue = [4, 1]'),\n",
              " Text(0.24210526315789474, 0.28125, 'gini = 0.0\\nsamples = 4\\nvalue = [4, 0]'),\n",
              " Text(0.2631578947368421, 0.28125, 'gini = 0.0\\nsamples = 1\\nvalue = [0, 1]'),\n",
              " Text(0.29473684210526313, 0.34375, 'X[0] <= 46.0\\ngini = 0.49\\nsamples = 7\\nvalue = [4, 3]'),\n",
              " Text(0.28421052631578947, 0.28125, 'X[0] <= 43.0\\ngini = 0.48\\nsamples = 5\\nvalue = [2, 3]'),\n",
              " Text(0.2736842105263158, 0.21875, 'gini = 0.0\\nsamples = 1\\nvalue = [0, 1]'),\n",
              " Text(0.29473684210526313, 0.21875, 'X[1] <= 66.5\\ngini = 0.5\\nsamples = 4\\nvalue = [2, 2]'),\n",
              " Text(0.28421052631578947, 0.15625, 'gini = 0.0\\nsamples = 1\\nvalue = [0, 1]'),\n",
              " Text(0.30526315789473685, 0.15625, 'X[2] <= 0.5\\ngini = 0.444\\nsamples = 3\\nvalue = [2, 1]'),\n",
              " Text(0.29473684210526313, 0.09375, 'gini = 0.0\\nsamples = 1\\nvalue = [1, 0]'),\n",
              " Text(0.3157894736842105, 0.09375, 'gini = 0.5\\nsamples = 2\\nvalue = [1, 1]'),\n",
              " Text(0.30526315789473685, 0.28125, 'gini = 0.0\\nsamples = 2\\nvalue = [2, 0]'),\n",
              " Text(0.29473684210526313, 0.40625, 'gini = 0.0\\nsamples = 1\\nvalue = [1, 0]'),\n",
              " Text(0.2236842105263158, 0.59375, 'gini = 0.0\\nsamples = 1\\nvalue = [0, 1]'),\n",
              " Text(0.5296052631578947, 0.71875, 'X[1] <= 65.5\\ngini = 0.219\\nsamples = 128\\nvalue = [112, 16]'),\n",
              " Text(0.4486842105263158, 0.65625, 'X[0] <= 59.5\\ngini = 0.275\\nsamples = 91\\nvalue = [76, 15]'),\n",
              " Text(0.3631578947368421, 0.59375, 'X[1] <= 62.5\\ngini = 0.174\\nsamples = 52\\nvalue = [47, 5]'),\n",
              " Text(0.3263157894736842, 0.53125, 'X[2] <= 1.5\\ngini = 0.056\\nsamples = 35\\nvalue = [34, 1]'),\n",
              " Text(0.3157894736842105, 0.46875, 'gini = 0.0\\nsamples = 30\\nvalue = [30, 0]'),\n",
              " Text(0.3368421052631579, 0.46875, 'X[1] <= 59.5\\ngini = 0.32\\nsamples = 5\\nvalue = [4, 1]'),\n",
              " Text(0.3263157894736842, 0.40625, 'X[0] <= 51.0\\ngini = 0.5\\nsamples = 2\\nvalue = [1, 1]'),\n",
              " Text(0.3157894736842105, 0.34375, 'gini = 0.0\\nsamples = 1\\nvalue = [1, 0]'),\n",
              " Text(0.3368421052631579, 0.34375, 'gini = 0.0\\nsamples = 1\\nvalue = [0, 1]'),\n",
              " Text(0.3473684210526316, 0.40625, 'gini = 0.0\\nsamples = 3\\nvalue = [3, 0]'),\n",
              " Text(0.4, 0.53125, 'X[2] <= 0.5\\ngini = 0.36\\nsamples = 17\\nvalue = [13, 4]'),\n",
              " Text(0.37894736842105264, 0.46875, 'X[0] <= 50.5\\ngini = 0.26\\nsamples = 13\\nvalue = [11, 2]'),\n",
              " Text(0.3684210526315789, 0.40625, 'X[1] <= 63.5\\ngini = 0.5\\nsamples = 4\\nvalue = [2, 2]'),\n",
              " Text(0.35789473684210527, 0.34375, 'gini = 0.0\\nsamples = 1\\nvalue = [0, 1]'),\n",
              " Text(0.37894736842105264, 0.34375, 'X[0] <= 49.0\\ngini = 0.444\\nsamples = 3\\nvalue = [2, 1]'),\n",
              " Text(0.3684210526315789, 0.28125, 'gini = 0.0\\nsamples = 1\\nvalue = [1, 0]'),\n",
              " Text(0.3894736842105263, 0.28125, 'gini = 0.5\\nsamples = 2\\nvalue = [1, 1]'),\n",
              " Text(0.3894736842105263, 0.40625, 'gini = 0.0\\nsamples = 9\\nvalue = [9, 0]'),\n",
              " Text(0.42105263157894735, 0.46875, 'X[0] <= 51.5\\ngini = 0.5\\nsamples = 4\\nvalue = [2, 2]'),\n",
              " Text(0.4105263157894737, 0.40625, 'gini = 0.0\\nsamples = 1\\nvalue = [1, 0]'),\n",
              " Text(0.43157894736842106, 0.40625, 'X[0] <= 58.0\\ngini = 0.444\\nsamples = 3\\nvalue = [1, 2]'),\n",
              " Text(0.42105263157894735, 0.34375, 'gini = 0.0\\nsamples = 2\\nvalue = [0, 2]'),\n",
              " Text(0.4421052631578947, 0.34375, 'gini = 0.0\\nsamples = 1\\nvalue = [1, 0]'),\n",
              " Text(0.5342105263157895, 0.59375, 'X[1] <= 58.5\\ngini = 0.381\\nsamples = 39\\nvalue = [29, 10]'),\n",
              " Text(0.49473684210526314, 0.53125, 'X[2] <= 0.5\\ngini = 0.48\\nsamples = 10\\nvalue = [6, 4]'),\n",
              " Text(0.4842105263157895, 0.46875, 'X[0] <= 71.0\\ngini = 0.494\\nsamples = 9\\nvalue = [5, 4]'),\n",
              " Text(0.47368421052631576, 0.40625, 'X[0] <= 68.0\\ngini = 0.5\\nsamples = 8\\nvalue = [4, 4]'),\n",
              " Text(0.4631578947368421, 0.34375, 'X[0] <= 64.5\\ngini = 0.49\\nsamples = 7\\nvalue = [4, 3]'),\n",
              " Text(0.4421052631578947, 0.28125, 'X[0] <= 63.0\\ngini = 0.444\\nsamples = 3\\nvalue = [2, 1]'),\n",
              " Text(0.43157894736842106, 0.21875, 'gini = 0.5\\nsamples = 2\\nvalue = [1, 1]'),\n",
              " Text(0.45263157894736844, 0.21875, 'gini = 0.0\\nsamples = 1\\nvalue = [1, 0]'),\n",
              " Text(0.4842105263157895, 0.28125, 'X[0] <= 65.5\\ngini = 0.5\\nsamples = 4\\nvalue = [2, 2]'),\n",
              " Text(0.47368421052631576, 0.21875, 'gini = 0.5\\nsamples = 2\\nvalue = [1, 1]'),\n",
              " Text(0.49473684210526314, 0.21875, 'gini = 0.5\\nsamples = 2\\nvalue = [1, 1]'),\n",
              " Text(0.4842105263157895, 0.34375, 'gini = 0.0\\nsamples = 1\\nvalue = [0, 1]'),\n",
              " Text(0.49473684210526314, 0.40625, 'gini = 0.0\\nsamples = 1\\nvalue = [1, 0]'),\n",
              " Text(0.5052631578947369, 0.46875, 'gini = 0.0\\nsamples = 1\\nvalue = [1, 0]'),\n",
              " Text(0.5736842105263158, 0.53125, 'X[2] <= 0.5\\ngini = 0.328\\nsamples = 29\\nvalue = [23, 6]'),\n",
              " Text(0.5473684210526316, 0.46875, 'X[1] <= 64.5\\ngini = 0.227\\nsamples = 23\\nvalue = [20, 3]'),\n",
              " Text(0.5263157894736842, 0.40625, 'X[0] <= 71.0\\ngini = 0.1\\nsamples = 19\\nvalue = [18, 1]'),\n",
              " Text(0.5157894736842106, 0.34375, 'gini = 0.0\\nsamples = 15\\nvalue = [15, 0]'),\n",
              " Text(0.5368421052631579, 0.34375, 'X[0] <= 72.5\\ngini = 0.375\\nsamples = 4\\nvalue = [3, 1]'),\n",
              " Text(0.5263157894736842, 0.28125, 'X[1] <= 63.5\\ngini = 0.5\\nsamples = 2\\nvalue = [1, 1]'),\n",
              " Text(0.5157894736842106, 0.21875, 'gini = 0.0\\nsamples = 1\\nvalue = [0, 1]'),\n",
              " Text(0.5368421052631579, 0.21875, 'gini = 0.0\\nsamples = 1\\nvalue = [1, 0]'),\n",
              " Text(0.5473684210526316, 0.28125, 'gini = 0.0\\nsamples = 2\\nvalue = [2, 0]'),\n",
              " Text(0.5684210526315789, 0.40625, 'X[0] <= 64.0\\ngini = 0.5\\nsamples = 4\\nvalue = [2, 2]'),\n",
              " Text(0.5578947368421052, 0.34375, 'gini = 0.0\\nsamples = 2\\nvalue = [0, 2]'),\n",
              " Text(0.5789473684210527, 0.34375, 'gini = 0.0\\nsamples = 2\\nvalue = [2, 0]'),\n",
              " Text(0.6, 0.46875, 'X[0] <= 61.5\\ngini = 0.5\\nsamples = 6\\nvalue = [3, 3]'),\n",
              " Text(0.5894736842105263, 0.40625, 'gini = 0.0\\nsamples = 1\\nvalue = [1, 0]'),\n",
              " Text(0.6105263157894737, 0.40625, 'X[1] <= 59.5\\ngini = 0.48\\nsamples = 5\\nvalue = [2, 3]'),\n",
              " Text(0.6, 0.34375, 'gini = 0.0\\nsamples = 1\\nvalue = [1, 0]'),\n",
              " Text(0.6210526315789474, 0.34375, 'X[0] <= 71.0\\ngini = 0.375\\nsamples = 4\\nvalue = [1, 3]'),\n",
              " Text(0.6105263157894737, 0.28125, 'gini = 0.0\\nsamples = 3\\nvalue = [0, 3]'),\n",
              " Text(0.631578947368421, 0.28125, 'gini = 0.0\\nsamples = 1\\nvalue = [1, 0]'),\n",
              " Text(0.6105263157894737, 0.65625, 'X[2] <= 0.5\\ngini = 0.053\\nsamples = 37\\nvalue = [36, 1]'),\n",
              " Text(0.6, 0.59375, 'gini = 0.0\\nsamples = 27\\nvalue = [27, 0]'),\n",
              " Text(0.6210526315789474, 0.59375, 'X[1] <= 67.5\\ngini = 0.18\\nsamples = 10\\nvalue = [9, 1]'),\n",
              " Text(0.6105263157894737, 0.53125, 'gini = 0.0\\nsamples = 8\\nvalue = [8, 0]'),\n",
              " Text(0.631578947368421, 0.53125, 'X[2] <= 1.5\\ngini = 0.5\\nsamples = 2\\nvalue = [1, 1]'),\n",
              " Text(0.6210526315789474, 0.46875, 'gini = 0.0\\nsamples = 1\\nvalue = [0, 1]'),\n",
              " Text(0.6421052631578947, 0.46875, 'gini = 0.0\\nsamples = 1\\nvalue = [1, 0]'),\n",
              " Text(0.6815789473684211, 0.78125, 'X[0] <= 50.5\\ngini = 0.422\\nsamples = 33\\nvalue = [23, 10]'),\n",
              " Text(0.6421052631578947, 0.71875, 'X[1] <= 68.5\\ngini = 0.133\\nsamples = 14\\nvalue = [13, 1]'),\n",
              " Text(0.631578947368421, 0.65625, 'gini = 0.0\\nsamples = 13\\nvalue = [13, 0]'),\n",
              " Text(0.6526315789473685, 0.65625, 'gini = 0.0\\nsamples = 1\\nvalue = [0, 1]'),\n",
              " Text(0.7210526315789474, 0.71875, 'X[0] <= 53.5\\ngini = 0.499\\nsamples = 19\\nvalue = [10, 9]'),\n",
              " Text(0.6736842105263158, 0.65625, 'X[2] <= 3.5\\ngini = 0.375\\nsamples = 8\\nvalue = [2, 6]'),\n",
              " Text(0.6631578947368421, 0.59375, 'gini = 0.0\\nsamples = 4\\nvalue = [0, 4]'),\n",
              " Text(0.6842105263157895, 0.59375, 'X[1] <= 59.0\\ngini = 0.5\\nsamples = 4\\nvalue = [2, 2]'),\n",
              " Text(0.6736842105263158, 0.53125, 'gini = 0.0\\nsamples = 1\\nvalue = [0, 1]'),\n",
              " Text(0.6947368421052632, 0.53125, 'X[1] <= 64.5\\ngini = 0.444\\nsamples = 3\\nvalue = [2, 1]'),\n",
              " Text(0.6842105263157895, 0.46875, 'gini = 0.0\\nsamples = 2\\nvalue = [2, 0]'),\n",
              " Text(0.7052631578947368, 0.46875, 'gini = 0.0\\nsamples = 1\\nvalue = [0, 1]'),\n",
              " Text(0.7684210526315789, 0.65625, 'X[0] <= 64.5\\ngini = 0.397\\nsamples = 11\\nvalue = [8, 3]'),\n",
              " Text(0.7473684210526316, 0.59375, 'X[0] <= 57.0\\ngini = 0.245\\nsamples = 7\\nvalue = [6, 1]'),\n",
              " Text(0.7368421052631579, 0.53125, 'X[0] <= 55.5\\ngini = 0.444\\nsamples = 3\\nvalue = [2, 1]'),\n",
              " Text(0.7263157894736842, 0.46875, 'gini = 0.0\\nsamples = 2\\nvalue = [2, 0]'),\n",
              " Text(0.7473684210526316, 0.46875, 'gini = 0.0\\nsamples = 1\\nvalue = [0, 1]'),\n",
              " Text(0.7578947368421053, 0.53125, 'gini = 0.0\\nsamples = 4\\nvalue = [4, 0]'),\n",
              " Text(0.7894736842105263, 0.59375, 'X[1] <= 61.5\\ngini = 0.5\\nsamples = 4\\nvalue = [2, 2]'),\n",
              " Text(0.7789473684210526, 0.53125, 'gini = 0.0\\nsamples = 1\\nvalue = [0, 1]'),\n",
              " Text(0.8, 0.53125, 'X[0] <= 73.0\\ngini = 0.444\\nsamples = 3\\nvalue = [2, 1]'),\n",
              " Text(0.7894736842105263, 0.46875, 'gini = 0.0\\nsamples = 1\\nvalue = [1, 0]'),\n",
              " Text(0.8105263157894737, 0.46875, 'X[0] <= 75.5\\ngini = 0.5\\nsamples = 2\\nvalue = [1, 1]'),\n",
              " Text(0.8, 0.40625, 'gini = 0.0\\nsamples = 1\\nvalue = [0, 1]'),\n",
              " Text(0.8210526315789474, 0.40625, 'gini = 0.0\\nsamples = 1\\nvalue = [1, 0]'),\n",
              " Text(0.5287828947368421, 0.84375, 'gini = 0.0\\nsamples = 2\\nvalue = [0, 2]'),\n",
              " Text(0.8842105263157894, 0.90625, 'X[0] <= 42.5\\ngini = 0.5\\nsamples = 76\\nvalue = [37, 39]'),\n",
              " Text(0.8473684210526315, 0.84375, 'X[2] <= 20.5\\ngini = 0.32\\nsamples = 15\\nvalue = [12, 3]'),\n",
              " Text(0.8263157894736842, 0.78125, 'X[0] <= 34.5\\ngini = 0.153\\nsamples = 12\\nvalue = [11, 1]'),\n",
              " Text(0.8157894736842105, 0.71875, 'X[1] <= 63.5\\ngini = 0.375\\nsamples = 4\\nvalue = [3, 1]'),\n",
              " Text(0.8052631578947368, 0.65625, 'gini = 0.0\\nsamples = 2\\nvalue = [2, 0]'),\n",
              " Text(0.8263157894736842, 0.65625, 'X[2] <= 8.0\\ngini = 0.5\\nsamples = 2\\nvalue = [1, 1]'),\n",
              " Text(0.8157894736842105, 0.59375, 'gini = 0.0\\nsamples = 1\\nvalue = [1, 0]'),\n",
              " Text(0.8368421052631579, 0.59375, 'gini = 0.0\\nsamples = 1\\nvalue = [0, 1]'),\n",
              " Text(0.8368421052631579, 0.71875, 'gini = 0.0\\nsamples = 8\\nvalue = [8, 0]'),\n",
              " Text(0.868421052631579, 0.78125, 'X[1] <= 59.0\\ngini = 0.444\\nsamples = 3\\nvalue = [1, 2]'),\n",
              " Text(0.8578947368421053, 0.71875, 'gini = 0.0\\nsamples = 1\\nvalue = [1, 0]'),\n",
              " Text(0.8789473684210526, 0.71875, 'gini = 0.0\\nsamples = 2\\nvalue = [0, 2]'),\n",
              " Text(0.9210526315789473, 0.84375, 'X[1] <= 68.5\\ngini = 0.484\\nsamples = 61\\nvalue = [25, 36]'),\n",
              " Text(0.9105263157894737, 0.78125, 'X[0] <= 69.5\\ngini = 0.476\\nsamples = 59\\nvalue = [23, 36]'),\n",
              " Text(0.9, 0.71875, 'X[0] <= 64.5\\ngini = 0.465\\nsamples = 57\\nvalue = [21, 36]'),\n",
              " Text(0.8894736842105263, 0.65625, 'X[0] <= 62.5\\ngini = 0.482\\nsamples = 52\\nvalue = [21, 31]'),\n",
              " Text(0.8789473684210526, 0.59375, 'X[1] <= 58.5\\ngini = 0.465\\nsamples = 49\\nvalue = [18, 31]'),\n",
              " Text(0.868421052631579, 0.53125, 'gini = 0.0\\nsamples = 4\\nvalue = [0, 4]'),\n",
              " Text(0.8894736842105263, 0.53125, 'X[0] <= 43.5\\ngini = 0.48\\nsamples = 45\\nvalue = [18, 27]'),\n",
              " Text(0.8789473684210526, 0.46875, 'gini = 0.0\\nsamples = 1\\nvalue = [1, 0]'),\n",
              " Text(0.9, 0.46875, 'X[2] <= 8.5\\ngini = 0.474\\nsamples = 44\\nvalue = [17, 27]'),\n",
              " Text(0.8421052631578947, 0.40625, 'X[0] <= 46.5\\ngini = 0.5\\nsamples = 18\\nvalue = [9, 9]'),\n",
              " Text(0.8315789473684211, 0.34375, 'gini = 0.0\\nsamples = 3\\nvalue = [0, 3]'),\n",
              " Text(0.8526315789473684, 0.34375, 'X[1] <= 66.0\\ngini = 0.48\\nsamples = 15\\nvalue = [9, 6]'),\n",
              " Text(0.8421052631578947, 0.28125, 'X[2] <= 5.5\\ngini = 0.426\\nsamples = 13\\nvalue = [9, 4]'),\n",
              " Text(0.8210526315789474, 0.21875, 'X[0] <= 53.0\\ngini = 0.375\\nsamples = 4\\nvalue = [1, 3]'),\n",
              " Text(0.8105263157894737, 0.15625, 'gini = 0.0\\nsamples = 1\\nvalue = [1, 0]'),\n",
              " Text(0.8315789473684211, 0.15625, 'gini = 0.0\\nsamples = 3\\nvalue = [0, 3]'),\n",
              " Text(0.8631578947368421, 0.21875, 'X[2] <= 6.5\\ngini = 0.198\\nsamples = 9\\nvalue = [8, 1]'),\n",
              " Text(0.8526315789473684, 0.15625, 'X[1] <= 62.5\\ngini = 0.375\\nsamples = 4\\nvalue = [3, 1]'),\n",
              " Text(0.8421052631578947, 0.09375, 'gini = 0.0\\nsamples = 2\\nvalue = [2, 0]'),\n",
              " Text(0.8631578947368421, 0.09375, 'X[0] <= 51.0\\ngini = 0.5\\nsamples = 2\\nvalue = [1, 1]'),\n",
              " Text(0.8526315789473684, 0.03125, 'gini = 0.0\\nsamples = 1\\nvalue = [1, 0]'),\n",
              " Text(0.8736842105263158, 0.03125, 'gini = 0.0\\nsamples = 1\\nvalue = [0, 1]'),\n",
              " Text(0.8736842105263158, 0.15625, 'gini = 0.0\\nsamples = 5\\nvalue = [5, 0]'),\n",
              " Text(0.8631578947368421, 0.28125, 'gini = 0.0\\nsamples = 2\\nvalue = [0, 2]'),\n",
              " Text(0.9578947368421052, 0.40625, 'X[1] <= 65.5\\ngini = 0.426\\nsamples = 26\\nvalue = [8, 18]'),\n",
              " Text(0.9368421052631579, 0.34375, 'X[1] <= 64.5\\ngini = 0.308\\nsamples = 21\\nvalue = [4, 17]'),\n",
              " Text(0.9263157894736842, 0.28125, 'X[0] <= 53.5\\ngini = 0.375\\nsamples = 16\\nvalue = [4, 12]'),\n",
              " Text(0.9052631578947369, 0.21875, 'X[0] <= 46.0\\ngini = 0.219\\nsamples = 8\\nvalue = [1, 7]'),\n",
              " Text(0.8947368421052632, 0.15625, 'X[2] <= 16.5\\ngini = 0.5\\nsamples = 2\\nvalue = [1, 1]'),\n",
              " Text(0.8842105263157894, 0.09375, 'gini = 0.0\\nsamples = 1\\nvalue = [1, 0]'),\n",
              " Text(0.9052631578947369, 0.09375, 'gini = 0.0\\nsamples = 1\\nvalue = [0, 1]'),\n",
              " Text(0.9157894736842105, 0.15625, 'gini = 0.0\\nsamples = 6\\nvalue = [0, 6]'),\n",
              " Text(0.9473684210526315, 0.21875, 'X[1] <= 62.5\\ngini = 0.469\\nsamples = 8\\nvalue = [3, 5]'),\n",
              " Text(0.9368421052631579, 0.15625, 'X[2] <= 21.0\\ngini = 0.278\\nsamples = 6\\nvalue = [1, 5]'),\n",
              " Text(0.9263157894736842, 0.09375, 'gini = 0.0\\nsamples = 4\\nvalue = [0, 4]'),\n",
              " Text(0.9473684210526315, 0.09375, 'X[0] <= 59.5\\ngini = 0.5\\nsamples = 2\\nvalue = [1, 1]'),\n",
              " Text(0.9368421052631579, 0.03125, 'gini = 0.0\\nsamples = 1\\nvalue = [0, 1]'),\n",
              " Text(0.9578947368421052, 0.03125, 'gini = 0.0\\nsamples = 1\\nvalue = [1, 0]'),\n",
              " Text(0.9578947368421052, 0.15625, 'gini = 0.0\\nsamples = 2\\nvalue = [2, 0]'),\n",
              " Text(0.9473684210526315, 0.28125, 'gini = 0.0\\nsamples = 5\\nvalue = [0, 5]'),\n",
              " Text(0.9789473684210527, 0.34375, 'X[1] <= 67.5\\ngini = 0.32\\nsamples = 5\\nvalue = [4, 1]'),\n",
              " Text(0.968421052631579, 0.28125, 'gini = 0.0\\nsamples = 4\\nvalue = [4, 0]'),\n",
              " Text(0.9894736842105263, 0.28125, 'gini = 0.0\\nsamples = 1\\nvalue = [0, 1]'),\n",
              " Text(0.9, 0.59375, 'gini = 0.0\\nsamples = 3\\nvalue = [3, 0]'),\n",
              " Text(0.9105263157894737, 0.65625, 'gini = 0.0\\nsamples = 5\\nvalue = [0, 5]'),\n",
              " Text(0.9210526315789473, 0.71875, 'gini = 0.0\\nsamples = 2\\nvalue = [2, 0]'),\n",
              " Text(0.9315789473684211, 0.78125, 'gini = 0.0\\nsamples = 2\\nvalue = [2, 0]')]"
            ]
          },
          "metadata": {},
          "execution_count": 12
        },
        {
          "output_type": "display_data",
          "data": {
            "text/plain": [
              "<Figure size 432x288 with 1 Axes>"
            ],
            "image/png": "[encoded data removed]"
          },
          "metadata": {
            "needs_background": "light"
          }
        }
      ]
    },
    {
      "cell_type": "code",
      "source": [
        "import graphviz\n",
        "dot_data = tree.export_graphviz(clf, out_file=None)\n",
        "graph = graphviz.Source(dot_data)"
      ],
      "metadata": {
        "id": "UrOltDz9R5PC"
      },
      "execution_count": 13,
      "outputs": []
    },
    {
      "cell_type": "code",
      "source": [
        "graph.render(\"Haberman\")"
      ],
      "metadata": {
        "colab": {
          "base_uri": "https://localhost:8080/",
          "height": 35
        },
        "id": "lSa1PByqSJnA",
        "outputId": "679dc80c-b020-4802-fd71-216b9fd4280f"
      },
      "execution_count": 14,
      "outputs": [
        {
          "output_type": "execute_result",
          "data": {
            "text/plain": [
              "'Haberman.pdf'"
            ],
            "application/vnd.google.colaboratory.intrinsic+json": {
              "type": "string"
            }
          },
          "metadata": {},
          "execution_count": 14
        }
      ]
    },
    {
      "cell_type": "code",
      "source": [
        "from sklearn.tree import export_text\n",
        "r = export_text(clf, feature_names=haberman_features)\n",
        "print(r)"
      ],
      "metadata": {
        "colab": {
          "base_uri": "https://localhost:8080/"
        },
        "id": "FwrV7UvkSPsp",
        "outputId": "daffe1b3-18a5-4323-a5d7-feedf970c620"
      },
      "execution_count": 15,
      "outputs": [
        {
          "output_type": "stream",
          "name": "stdout",
          "text": [
            "|--- Jumlah \"kelenjar aksila positif\" yang terdeteksi <= 4.50\n",
            "|   |--- Umur Pasien Ketika Melakukan Operasi <= 77.50\n",
            "|   |   |--- Jumlah \"kelenjar aksila positif\" yang terdeteksi <= 2.50\n",
            "|   |   |   |--- Umur Pasien Ketika Melakukan Operasi <= 47.50\n",
            "|   |   |   |   |--- Umur Pasien Ketika Melakukan Operasi <= 40.50\n",
            "|   |   |   |   |   |--- 2 Digit Angka Tahun operasi <= 65.50\n",
            "|   |   |   |   |   |   |--- Umur Pasien Ketika Melakukan Operasi <= 34.50\n",
            "|   |   |   |   |   |   |   |--- 2 Digit Angka Tahun operasi <= 59.50\n",
            "|   |   |   |   |   |   |   |   |--- Umur Pasien Ketika Melakukan Operasi <= 32.50\n",
            "|   |   |   |   |   |   |   |   |   |--- class: 1\n",
            "|   |   |   |   |   |   |   |   |--- Umur Pasien Ketika Melakukan Operasi >  32.50\n",
            "|   |   |   |   |   |   |   |   |   |--- class: 2\n",
            "|   |   |   |   |   |   |   |--- 2 Digit Angka Tahun operasi >  59.50\n",
            "|   |   |   |   |   |   |   |   |--- class: 1\n",
            "|   |   |   |   |   |   |--- Umur Pasien Ketika Melakukan Operasi >  34.50\n",
            "|   |   |   |   |   |   |   |--- class: 1\n",
            "|   |   |   |   |   |--- 2 Digit Angka Tahun operasi >  65.50\n",
            "|   |   |   |   |   |   |--- Umur Pasien Ketika Melakukan Operasi <= 38.50\n",
            "|   |   |   |   |   |   |   |--- class: 1\n",
            "|   |   |   |   |   |   |--- Umur Pasien Ketika Melakukan Operasi >  38.50\n",
            "|   |   |   |   |   |   |   |--- 2 Digit Angka Tahun operasi <= 66.50\n",
            "|   |   |   |   |   |   |   |   |--- class: 2\n",
            "|   |   |   |   |   |   |   |--- 2 Digit Angka Tahun operasi >  66.50\n",
            "|   |   |   |   |   |   |   |   |--- class: 1\n",
            "|   |   |   |   |--- Umur Pasien Ketika Melakukan Operasi >  40.50\n",
            "|   |   |   |   |   |--- 2 Digit Angka Tahun operasi <= 68.50\n",
            "|   |   |   |   |   |   |--- 2 Digit Angka Tahun operasi <= 63.50\n",
            "|   |   |   |   |   |   |   |--- 2 Digit Angka Tahun operasi <= 59.50\n",
            "|   |   |   |   |   |   |   |   |--- Umur Pasien Ketika Melakukan Operasi <= 42.50\n",
            "|   |   |   |   |   |   |   |   |   |--- Umur Pasien Ketika Melakukan Operasi <= 41.50\n",
            "|   |   |   |   |   |   |   |   |   |   |--- class: 1\n",
            "|   |   |   |   |   |   |   |   |   |--- Umur Pasien Ketika Melakukan Operasi >  41.50\n",
            "|   |   |   |   |   |   |   |   |   |   |--- 2 Digit Angka Tahun operasi <= 58.50\n",
            "|   |   |   |   |   |   |   |   |   |   |   |--- class: 1\n",
            "|   |   |   |   |   |   |   |   |   |   |--- 2 Digit Angka Tahun operasi >  58.50\n",
            "|   |   |   |   |   |   |   |   |   |   |   |--- truncated branch of depth 2\n",
            "|   |   |   |   |   |   |   |   |--- Umur Pasien Ketika Melakukan Operasi >  42.50\n",
            "|   |   |   |   |   |   |   |   |   |--- class: 2\n",
            "|   |   |   |   |   |   |   |--- 2 Digit Angka Tahun operasi >  59.50\n",
            "|   |   |   |   |   |   |   |   |--- Umur Pasien Ketika Melakukan Operasi <= 46.50\n",
            "|   |   |   |   |   |   |   |   |   |--- class: 1\n",
            "|   |   |   |   |   |   |   |   |--- Umur Pasien Ketika Melakukan Operasi >  46.50\n",
            "|   |   |   |   |   |   |   |   |   |--- 2 Digit Angka Tahun operasi <= 61.50\n",
            "|   |   |   |   |   |   |   |   |   |   |--- class: 1\n",
            "|   |   |   |   |   |   |   |   |   |--- 2 Digit Angka Tahun operasi >  61.50\n",
            "|   |   |   |   |   |   |   |   |   |   |--- class: 2\n",
            "|   |   |   |   |   |   |--- 2 Digit Angka Tahun operasi >  63.50\n",
            "|   |   |   |   |   |   |   |--- 2 Digit Angka Tahun operasi <= 64.50\n",
            "|   |   |   |   |   |   |   |   |--- Jumlah \"kelenjar aksila positif\" yang terdeteksi <= 1.00\n",
            "|   |   |   |   |   |   |   |   |   |--- Umur Pasien Ketika Melakukan Operasi <= 44.00\n",
            "|   |   |   |   |   |   |   |   |   |   |--- Umur Pasien Ketika Melakukan Operasi <= 42.00\n",
            "|   |   |   |   |   |   |   |   |   |   |   |--- class: 1\n",
            "|   |   |   |   |   |   |   |   |   |   |--- Umur Pasien Ketika Melakukan Operasi >  42.00\n",
            "|   |   |   |   |   |   |   |   |   |   |   |--- class: 2\n",
            "|   |   |   |   |   |   |   |   |   |--- Umur Pasien Ketika Melakukan Operasi >  44.00\n",
            "|   |   |   |   |   |   |   |   |   |   |--- class: 1\n",
            "|   |   |   |   |   |   |   |   |--- Jumlah \"kelenjar aksila positif\" yang terdeteksi >  1.00\n",
            "|   |   |   |   |   |   |   |   |   |--- class: 1\n",
            "|   |   |   |   |   |   |   |--- 2 Digit Angka Tahun operasi >  64.50\n",
            "|   |   |   |   |   |   |   |   |--- 2 Digit Angka Tahun operasi <= 67.50\n",
            "|   |   |   |   |   |   |   |   |   |--- 2 Digit Angka Tahun operasi <= 65.50\n",
            "|   |   |   |   |   |   |   |   |   |   |--- Umur Pasien Ketika Melakukan Operasi <= 45.00\n",
            "|   |   |   |   |   |   |   |   |   |   |   |--- class: 1\n",
            "|   |   |   |   |   |   |   |   |   |   |--- Umur Pasien Ketika Melakukan Operasi >  45.00\n",
            "|   |   |   |   |   |   |   |   |   |   |   |--- class: 2\n",
            "|   |   |   |   |   |   |   |   |   |--- 2 Digit Angka Tahun operasi >  65.50\n",
            "|   |   |   |   |   |   |   |   |   |   |--- Umur Pasien Ketika Melakukan Operasi <= 46.00\n",
            "|   |   |   |   |   |   |   |   |   |   |   |--- truncated branch of depth 4\n",
            "|   |   |   |   |   |   |   |   |   |   |--- Umur Pasien Ketika Melakukan Operasi >  46.00\n",
            "|   |   |   |   |   |   |   |   |   |   |   |--- class: 1\n",
            "|   |   |   |   |   |   |   |   |--- 2 Digit Angka Tahun operasi >  67.50\n",
            "|   |   |   |   |   |   |   |   |   |--- class: 1\n",
            "|   |   |   |   |   |--- 2 Digit Angka Tahun operasi >  68.50\n",
            "|   |   |   |   |   |   |--- class: 2\n",
            "|   |   |   |--- Umur Pasien Ketika Melakukan Operasi >  47.50\n",
            "|   |   |   |   |--- 2 Digit Angka Tahun operasi <= 65.50\n",
            "|   |   |   |   |   |--- Umur Pasien Ketika Melakukan Operasi <= 59.50\n",
            "|   |   |   |   |   |   |--- 2 Digit Angka Tahun operasi <= 62.50\n",
            "|   |   |   |   |   |   |   |--- Jumlah \"kelenjar aksila positif\" yang terdeteksi <= 1.50\n",
            "|   |   |   |   |   |   |   |   |--- class: 1\n",
            "|   |   |   |   |   |   |   |--- Jumlah \"kelenjar aksila positif\" yang terdeteksi >  1.50\n",
            "|   |   |   |   |   |   |   |   |--- 2 Digit Angka Tahun operasi <= 59.50\n",
            "|   |   |   |   |   |   |   |   |   |--- Umur Pasien Ketika Melakukan Operasi <= 51.00\n",
            "|   |   |   |   |   |   |   |   |   |   |--- class: 1\n",
            "|   |   |   |   |   |   |   |   |   |--- Umur Pasien Ketika Melakukan Operasi >  51.00\n",
            "|   |   |   |   |   |   |   |   |   |   |--- class: 2\n",
            "|   |   |   |   |   |   |   |   |--- 2 Digit Angka Tahun operasi >  59.50\n",
            "|   |   |   |   |   |   |   |   |   |--- class: 1\n",
            "|   |   |   |   |   |   |--- 2 Digit Angka Tahun operasi >  62.50\n",
            "|   |   |   |   |   |   |   |--- Jumlah \"kelenjar aksila positif\" yang terdeteksi <= 0.50\n",
            "|   |   |   |   |   |   |   |   |--- Umur Pasien Ketika Melakukan Operasi <= 50.50\n",
            "|   |   |   |   |   |   |   |   |   |--- 2 Digit Angka Tahun operasi <= 63.50\n",
            "|   |   |   |   |   |   |   |   |   |   |--- class: 2\n",
            "|   |   |   |   |   |   |   |   |   |--- 2 Digit Angka Tahun operasi >  63.50\n",
            "|   |   |   |   |   |   |   |   |   |   |--- Umur Pasien Ketika Melakukan Operasi <= 49.00\n",
            "|   |   |   |   |   |   |   |   |   |   |   |--- class: 1\n",
            "|   |   |   |   |   |   |   |   |   |   |--- Umur Pasien Ketika Melakukan Operasi >  49.00\n",
            "|   |   |   |   |   |   |   |   |   |   |   |--- class: 1\n",
            "|   |   |   |   |   |   |   |   |--- Umur Pasien Ketika Melakukan Operasi >  50.50\n",
            "|   |   |   |   |   |   |   |   |   |--- class: 1\n",
            "|   |   |   |   |   |   |   |--- Jumlah \"kelenjar aksila positif\" yang terdeteksi >  0.50\n",
            "|   |   |   |   |   |   |   |   |--- Umur Pasien Ketika Melakukan Operasi <= 51.50\n",
            "|   |   |   |   |   |   |   |   |   |--- class: 1\n",
            "|   |   |   |   |   |   |   |   |--- Umur Pasien Ketika Melakukan Operasi >  51.50\n",
            "|   |   |   |   |   |   |   |   |   |--- Umur Pasien Ketika Melakukan Operasi <= 58.00\n",
            "|   |   |   |   |   |   |   |   |   |   |--- class: 2\n",
            "|   |   |   |   |   |   |   |   |   |--- Umur Pasien Ketika Melakukan Operasi >  58.00\n",
            "|   |   |   |   |   |   |   |   |   |   |--- class: 1\n",
            "|   |   |   |   |   |--- Umur Pasien Ketika Melakukan Operasi >  59.50\n",
            "|   |   |   |   |   |   |--- 2 Digit Angka Tahun operasi <= 58.50\n",
            "|   |   |   |   |   |   |   |--- Jumlah \"kelenjar aksila positif\" yang terdeteksi <= 0.50\n",
            "|   |   |   |   |   |   |   |   |--- Umur Pasien Ketika Melakukan Operasi <= 71.00\n",
            "|   |   |   |   |   |   |   |   |   |--- Umur Pasien Ketika Melakukan Operasi <= 68.00\n",
            "|   |   |   |   |   |   |   |   |   |   |--- Umur Pasien Ketika Melakukan Operasi <= 64.50\n",
            "|   |   |   |   |   |   |   |   |   |   |   |--- truncated branch of depth 2\n",
            "|   |   |   |   |   |   |   |   |   |   |--- Umur Pasien Ketika Melakukan Operasi >  64.50\n",
            "|   |   |   |   |   |   |   |   |   |   |   |--- truncated branch of depth 2\n",
            "|   |   |   |   |   |   |   |   |   |--- Umur Pasien Ketika Melakukan Operasi >  68.00\n",
            "|   |   |   |   |   |   |   |   |   |   |--- class: 2\n",
            "|   |   |   |   |   |   |   |   |--- Umur Pasien Ketika Melakukan Operasi >  71.00\n",
            "|   |   |   |   |   |   |   |   |   |--- class: 1\n",
            "|   |   |   |   |   |   |   |--- Jumlah \"kelenjar aksila positif\" yang terdeteksi >  0.50\n",
            "|   |   |   |   |   |   |   |   |--- class: 1\n",
            "|   |   |   |   |   |   |--- 2 Digit Angka Tahun operasi >  58.50\n",
            "|   |   |   |   |   |   |   |--- Jumlah \"kelenjar aksila positif\" yang terdeteksi <= 0.50\n",
            "|   |   |   |   |   |   |   |   |--- 2 Digit Angka Tahun operasi <= 64.50\n",
            "|   |   |   |   |   |   |   |   |   |--- Umur Pasien Ketika Melakukan Operasi <= 71.00\n",
            "|   |   |   |   |   |   |   |   |   |   |--- class: 1\n",
            "|   |   |   |   |   |   |   |   |   |--- Umur Pasien Ketika Melakukan Operasi >  71.00\n",
            "|   |   |   |   |   |   |   |   |   |   |--- Umur Pasien Ketika Melakukan Operasi <= 72.50\n",
            "|   |   |   |   |   |   |   |   |   |   |   |--- truncated branch of depth 2\n",
            "|   |   |   |   |   |   |   |   |   |   |--- Umur Pasien Ketika Melakukan Operasi >  72.50\n",
            "|   |   |   |   |   |   |   |   |   |   |   |--- class: 1\n",
            "|   |   |   |   |   |   |   |   |--- 2 Digit Angka Tahun operasi >  64.50\n",
            "|   |   |   |   |   |   |   |   |   |--- Umur Pasien Ketika Melakukan Operasi <= 64.00\n",
            "|   |   |   |   |   |   |   |   |   |   |--- class: 2\n",
            "|   |   |   |   |   |   |   |   |   |--- Umur Pasien Ketika Melakukan Operasi >  64.00\n",
            "|   |   |   |   |   |   |   |   |   |   |--- class: 1\n",
            "|   |   |   |   |   |   |   |--- Jumlah \"kelenjar aksila positif\" yang terdeteksi >  0.50\n",
            "|   |   |   |   |   |   |   |   |--- Umur Pasien Ketika Melakukan Operasi <= 61.50\n",
            "|   |   |   |   |   |   |   |   |   |--- class: 1\n",
            "|   |   |   |   |   |   |   |   |--- Umur Pasien Ketika Melakukan Operasi >  61.50\n",
            "|   |   |   |   |   |   |   |   |   |--- 2 Digit Angka Tahun operasi <= 59.50\n",
            "|   |   |   |   |   |   |   |   |   |   |--- class: 1\n",
            "|   |   |   |   |   |   |   |   |   |--- 2 Digit Angka Tahun operasi >  59.50\n",
            "|   |   |   |   |   |   |   |   |   |   |--- Umur Pasien Ketika Melakukan Operasi <= 71.00\n",
            "|   |   |   |   |   |   |   |   |   |   |   |--- class: 2\n",
            "|   |   |   |   |   |   |   |   |   |   |--- Umur Pasien Ketika Melakukan Operasi >  71.00\n",
            "|   |   |   |   |   |   |   |   |   |   |   |--- class: 1\n",
            "|   |   |   |   |--- 2 Digit Angka Tahun operasi >  65.50\n",
            "|   |   |   |   |   |--- Jumlah \"kelenjar aksila positif\" yang terdeteksi <= 0.50\n",
            "|   |   |   |   |   |   |--- class: 1\n",
            "|   |   |   |   |   |--- Jumlah \"kelenjar aksila positif\" yang terdeteksi >  0.50\n",
            "|   |   |   |   |   |   |--- 2 Digit Angka Tahun operasi <= 67.50\n",
            "|   |   |   |   |   |   |   |--- class: 1\n",
            "|   |   |   |   |   |   |--- 2 Digit Angka Tahun operasi >  67.50\n",
            "|   |   |   |   |   |   |   |--- Jumlah \"kelenjar aksila positif\" yang terdeteksi <= 1.50\n",
            "|   |   |   |   |   |   |   |   |--- class: 2\n",
            "|   |   |   |   |   |   |   |--- Jumlah \"kelenjar aksila positif\" yang terdeteksi >  1.50\n",
            "|   |   |   |   |   |   |   |   |--- class: 1\n",
            "|   |   |--- Jumlah \"kelenjar aksila positif\" yang terdeteksi >  2.50\n",
            "|   |   |   |--- Umur Pasien Ketika Melakukan Operasi <= 50.50\n",
            "|   |   |   |   |--- 2 Digit Angka Tahun operasi <= 68.50\n",
            "|   |   |   |   |   |--- class: 1\n",
            "|   |   |   |   |--- 2 Digit Angka Tahun operasi >  68.50\n",
            "|   |   |   |   |   |--- class: 2\n",
            "|   |   |   |--- Umur Pasien Ketika Melakukan Operasi >  50.50\n",
            "|   |   |   |   |--- Umur Pasien Ketika Melakukan Operasi <= 53.50\n",
            "|   |   |   |   |   |--- Jumlah \"kelenjar aksila positif\" yang terdeteksi <= 3.50\n",
            "|   |   |   |   |   |   |--- class: 2\n",
            "|   |   |   |   |   |--- Jumlah \"kelenjar aksila positif\" yang terdeteksi >  3.50\n",
            "|   |   |   |   |   |   |--- 2 Digit Angka Tahun operasi <= 59.00\n",
            "|   |   |   |   |   |   |   |--- class: 2\n",
            "|   |   |   |   |   |   |--- 2 Digit Angka Tahun operasi >  59.00\n",
            "|   |   |   |   |   |   |   |--- 2 Digit Angka Tahun operasi <= 64.50\n",
            "|   |   |   |   |   |   |   |   |--- class: 1\n",
            "|   |   |   |   |   |   |   |--- 2 Digit Angka Tahun operasi >  64.50\n",
            "|   |   |   |   |   |   |   |   |--- class: 2\n",
            "|   |   |   |   |--- Umur Pasien Ketika Melakukan Operasi >  53.50\n",
            "|   |   |   |   |   |--- Umur Pasien Ketika Melakukan Operasi <= 64.50\n",
            "|   |   |   |   |   |   |--- Umur Pasien Ketika Melakukan Operasi <= 57.00\n",
            "|   |   |   |   |   |   |   |--- Umur Pasien Ketika Melakukan Operasi <= 55.50\n",
            "|   |   |   |   |   |   |   |   |--- class: 1\n",
            "|   |   |   |   |   |   |   |--- Umur Pasien Ketika Melakukan Operasi >  55.50\n",
            "|   |   |   |   |   |   |   |   |--- class: 2\n",
            "|   |   |   |   |   |   |--- Umur Pasien Ketika Melakukan Operasi >  57.00\n",
            "|   |   |   |   |   |   |   |--- class: 1\n",
            "|   |   |   |   |   |--- Umur Pasien Ketika Melakukan Operasi >  64.50\n",
            "|   |   |   |   |   |   |--- 2 Digit Angka Tahun operasi <= 61.50\n",
            "|   |   |   |   |   |   |   |--- class: 2\n",
            "|   |   |   |   |   |   |--- 2 Digit Angka Tahun operasi >  61.50\n",
            "|   |   |   |   |   |   |   |--- Umur Pasien Ketika Melakukan Operasi <= 73.00\n",
            "|   |   |   |   |   |   |   |   |--- class: 1\n",
            "|   |   |   |   |   |   |   |--- Umur Pasien Ketika Melakukan Operasi >  73.00\n",
            "|   |   |   |   |   |   |   |   |--- Umur Pasien Ketika Melakukan Operasi <= 75.50\n",
            "|   |   |   |   |   |   |   |   |   |--- class: 2\n",
            "|   |   |   |   |   |   |   |   |--- Umur Pasien Ketika Melakukan Operasi >  75.50\n",
            "|   |   |   |   |   |   |   |   |   |--- class: 1\n",
            "|   |--- Umur Pasien Ketika Melakukan Operasi >  77.50\n",
            "|   |   |--- class: 2\n",
            "|--- Jumlah \"kelenjar aksila positif\" yang terdeteksi >  4.50\n",
            "|   |--- Umur Pasien Ketika Melakukan Operasi <= 42.50\n",
            "|   |   |--- Jumlah \"kelenjar aksila positif\" yang terdeteksi <= 20.50\n",
            "|   |   |   |--- Umur Pasien Ketika Melakukan Operasi <= 34.50\n",
            "|   |   |   |   |--- 2 Digit Angka Tahun operasi <= 63.50\n",
            "|   |   |   |   |   |--- class: 1\n",
            "|   |   |   |   |--- 2 Digit Angka Tahun operasi >  63.50\n",
            "|   |   |   |   |   |--- Jumlah \"kelenjar aksila positif\" yang terdeteksi <= 8.00\n",
            "|   |   |   |   |   |   |--- class: 1\n",
            "|   |   |   |   |   |--- Jumlah \"kelenjar aksila positif\" yang terdeteksi >  8.00\n",
            "|   |   |   |   |   |   |--- class: 2\n",
            "|   |   |   |--- Umur Pasien Ketika Melakukan Operasi >  34.50\n",
            "|   |   |   |   |--- class: 1\n",
            "|   |   |--- Jumlah \"kelenjar aksila positif\" yang terdeteksi >  20.50\n",
            "|   |   |   |--- 2 Digit Angka Tahun operasi <= 59.00\n",
            "|   |   |   |   |--- class: 1\n",
            "|   |   |   |--- 2 Digit Angka Tahun operasi >  59.00\n",
            "|   |   |   |   |--- class: 2\n",
            "|   |--- Umur Pasien Ketika Melakukan Operasi >  42.50\n",
            "|   |   |--- 2 Digit Angka Tahun operasi <= 68.50\n",
            "|   |   |   |--- Umur Pasien Ketika Melakukan Operasi <= 69.50\n",
            "|   |   |   |   |--- Umur Pasien Ketika Melakukan Operasi <= 64.50\n",
            "|   |   |   |   |   |--- Umur Pasien Ketika Melakukan Operasi <= 62.50\n",
            "|   |   |   |   |   |   |--- 2 Digit Angka Tahun operasi <= 58.50\n",
            "|   |   |   |   |   |   |   |--- class: 2\n",
            "|   |   |   |   |   |   |--- 2 Digit Angka Tahun operasi >  58.50\n",
            "|   |   |   |   |   |   |   |--- Umur Pasien Ketika Melakukan Operasi <= 43.50\n",
            "|   |   |   |   |   |   |   |   |--- class: 1\n",
            "|   |   |   |   |   |   |   |--- Umur Pasien Ketika Melakukan Operasi >  43.50\n",
            "|   |   |   |   |   |   |   |   |--- Jumlah \"kelenjar aksila positif\" yang terdeteksi <= 8.50\n",
            "|   |   |   |   |   |   |   |   |   |--- Umur Pasien Ketika Melakukan Operasi <= 46.50\n",
            "|   |   |   |   |   |   |   |   |   |   |--- class: 2\n",
            "|   |   |   |   |   |   |   |   |   |--- Umur Pasien Ketika Melakukan Operasi >  46.50\n",
            "|   |   |   |   |   |   |   |   |   |   |--- 2 Digit Angka Tahun operasi <= 66.00\n",
            "|   |   |   |   |   |   |   |   |   |   |   |--- truncated branch of depth 5\n",
            "|   |   |   |   |   |   |   |   |   |   |--- 2 Digit Angka Tahun operasi >  66.00\n",
            "|   |   |   |   |   |   |   |   |   |   |   |--- class: 2\n",
            "|   |   |   |   |   |   |   |   |--- Jumlah \"kelenjar aksila positif\" yang terdeteksi >  8.50\n",
            "|   |   |   |   |   |   |   |   |   |--- 2 Digit Angka Tahun operasi <= 65.50\n",
            "|   |   |   |   |   |   |   |   |   |   |--- 2 Digit Angka Tahun operasi <= 64.50\n",
            "|   |   |   |   |   |   |   |   |   |   |   |--- truncated branch of depth 5\n",
            "|   |   |   |   |   |   |   |   |   |   |--- 2 Digit Angka Tahun operasi >  64.50\n",
            "|   |   |   |   |   |   |   |   |   |   |   |--- class: 2\n",
            "|   |   |   |   |   |   |   |   |   |--- 2 Digit Angka Tahun operasi >  65.50\n",
            "|   |   |   |   |   |   |   |   |   |   |--- 2 Digit Angka Tahun operasi <= 67.50\n",
            "|   |   |   |   |   |   |   |   |   |   |   |--- class: 1\n",
            "|   |   |   |   |   |   |   |   |   |   |--- 2 Digit Angka Tahun operasi >  67.50\n",
            "|   |   |   |   |   |   |   |   |   |   |   |--- class: 2\n",
            "|   |   |   |   |   |--- Umur Pasien Ketika Melakukan Operasi >  62.50\n",
            "|   |   |   |   |   |   |--- class: 1\n",
            "|   |   |   |   |--- Umur Pasien Ketika Melakukan Operasi >  64.50\n",
            "|   |   |   |   |   |--- class: 2\n",
            "|   |   |   |--- Umur Pasien Ketika Melakukan Operasi >  69.50\n",
            "|   |   |   |   |--- class: 1\n",
            "|   |   |--- 2 Digit Angka Tahun operasi >  68.50\n",
            "|   |   |   |--- class: 1\n",
            "\n"
          ]
        }
      ]
    },
    {
      "cell_type": "code",
      "source": [
        "import matplotlib.pyplot as plt\n",
        "from sklearn.tree import plot_tree\n",
        "plot_tree(clf, filled=True)\n",
        "plt.show"
      ],
      "metadata": {
        "colab": {
          "base_uri": "https://localhost:8080/",
          "height": 265
        },
        "id": "F4m4IZ_TSjEa",
        "outputId": "9e9b4f17-601e-4279-cab1-6bca778fc7e6"
      },
      "execution_count": 16,
      "outputs": [
        {
          "output_type": "execute_result",
          "data": {
            "text/plain": [
              "<function matplotlib.pyplot.show>"
            ]
          },
          "metadata": {},
          "execution_count": 16
        },
        {
          "output_type": "display_data",
          "data": {
            "text/plain": [
              "<Figure size 432x288 with 1 Axes>"
            ],
            "image/png": "[encoded data removed]"
          },
          "metadata": {
            "needs_background": "light"
          }
        }
      ]
    },
    {
      "cell_type": "code",
      "source": [
        "from sklearn.model_selection import train_test_split\n",
        "from sklearn import metrics \n"
      ],
      "metadata": {
        "id": "dos12EOfUgkB"
      },
      "execution_count": 17,
      "outputs": []
    },
    {
      "cell_type": "code",
      "source": [
        "X_train, X_test, y_train, y_test = train_test_split(X, y, test_size=0.25, random_state=1)"
      ],
      "metadata": {
        "id": "u9cyrW06Ur4w"
      },
      "execution_count": 18,
      "outputs": []
    },
    {
      "cell_type": "code",
      "source": [
        "clf = clf.fit(X_train,y_train)\n",
        "\n",
        "y_pred = clf.predict(X_test)"
      ],
      "metadata": {
        "id": "pBB7JMz5VQfT"
      },
      "execution_count": 19,
      "outputs": []
    },
    {
      "cell_type": "code",
      "source": [
        "print(\"Accuracy:\",metrics.accuracy_score(y_test, y_pred))"
      ],
      "metadata": {
        "colab": {
          "base_uri": "https://localhost:8080/"
        },
        "id": "tVvp-dHIVbQ8",
        "outputId": "c6791381-3307-4cb4-fe6f-02557964e254"
      },
      "execution_count": 20,
      "outputs": [
        {
          "output_type": "stream",
          "name": "stdout",
          "text": [
            "Accuracy: 0.6883116883116883\n"
          ]
        }
      ]
    },
    {
      "cell_type": "code",
      "source": [
        "#from sklearn.ensemble import RandomForestClassifier\n",
        "#clf = RandomForestClassifier(max_depth=3, random_state=1,n_estimators=100)\n",
        "#clf.fit(X_train, y_train)\n",
        "#y_pred=clf.predict(X_test)"
      ],
      "metadata": {
        "id": "tId2i0xkahJ0"
      },
      "execution_count": 21,
      "outputs": []
    },
    {
      "cell_type": "code",
      "source": [
        "from sklearn.ensemble import GradientBoostingClassifier\n",
        "learning_rates = [0.25, 0.75, 1]\n",
        "for learning_rate in learning_rates:\n",
        "    gb = GradientBoostingClassifier(n_estimators=100, learning_rate = learning_rate, max_features=3, max_depth = 3, random_state=0)\n",
        "    gb.fit(X_train, y_train)\n",
        "    print(\"Learning rate: \", learning_rate)\n",
        "    print(\"Skor Akurasi (training): {0:.3f}\".format(gb.score(X_train, y_train)))\n",
        "    print(\"Skor Akurasi (validation): {0:.3f}\".format(gb.score(X_train, y_train)))\n",
        "    print()"
      ],
      "metadata": {
        "colab": {
          "base_uri": "https://localhost:8080/"
        },
        "id": "Ju7-U9QcCe6-",
        "outputId": "cd2264f6-bea1-4ee9-8a27-d9da111e54f6"
      },
      "execution_count": 38,
      "outputs": [
        {
          "output_type": "stream",
          "name": "stdout",
          "text": [
            "Learning rate:  0.25\n",
            "Skor Akurasi (training): 0.969\n",
            "Skor Akurasi (validation): 0.969\n",
            "\n",
            "Learning rate:  0.75\n",
            "Skor Akurasi (training): 0.983\n",
            "Skor Akurasi (validation): 0.983\n",
            "\n",
            "Learning rate:  1\n",
            "Skor Akurasi (training): 0.983\n",
            "Skor Akurasi (validation): 0.983\n",
            "\n"
          ]
        }
      ]
    },
    {
      "cell_type": "code",
      "source": [
        "from sklearn import metrics\n",
        "print(\"Akurasi:\",metrics.accuracy_score(y_test, y_pred))"
      ],
      "metadata": {
        "colab": {
          "base_uri": "https://localhost:8080/"
        },
        "id": "_26VSZFc7Rha",
        "outputId": "e9deb00c-53aa-40ca-813e-a0fb3a34cbd5"
      },
      "execution_count": 39,
      "outputs": [
        {
          "output_type": "stream",
          "name": "stdout",
          "text": [
            "Akurasi: 0.7792207792207793\n"
          ]
        }
      ]
    },
    {
      "cell_type": "code",
      "source": [
        "from sklearn.model_selection import cross_val_score\n",
        "from sklearn import linear_model\n",
        "lasso = linear_model.Lasso()\n",
        "print(cross_val_score(lasso, X, y, cv=2))"
      ],
      "metadata": {
        "colab": {
          "base_uri": "https://localhost:8080/"
        },
        "id": "81uY1VhK8aIG",
        "outputId": "0d0e0edf-1266-46fb-a36d-67866df98b15"
      },
      "execution_count": 40,
      "outputs": [
        {
          "output_type": "stream",
          "name": "stdout",
          "text": [
            "[-0.00202429 -0.0019305 ]\n"
          ]
        }
      ]
    },
    {
      "cell_type": "code",
      "source": [
        "from sklearn.metrics import roc_auc_score\n",
        "from sklearn.linear_model import LogisticRegression\n",
        "clf = LogisticRegression(solver=\"liblinear\", random_state=0).fit(X, y)\n",
        "roc_auc_score(y, clf.decision_function(X))"
      ],
      "metadata": {
        "colab": {
          "base_uri": "https://localhost:8080/"
        },
        "id": "ATNiQgMV8mjy",
        "outputId": "1e65e404-4f9a-46b7-dec2-b7038da609e0"
      },
      "execution_count": 41,
      "outputs": [
        {
          "output_type": "execute_result",
          "data": {
            "text/plain": [
              "0.6954732510288065"
            ]
          },
          "metadata": {},
          "execution_count": 41
        }
      ]
    },
    {
      "cell_type": "code",
      "source": [
        "from sklearn import metrics\n",
        "\n",
        "print (\"hasil klasifikasi: \\n\", metrics.classification_report(y_test, y_pred))\n",
        "print (\"confusion metrics: \\n\", metrics.confusion_matrix(y_test, y_pred))"
      ],
      "metadata": {
        "colab": {
          "base_uri": "https://localhost:8080/"
        },
        "id": "2y98dKfL9HUG",
        "outputId": "86a8023a-56aa-4436-9e0a-2b56bb7b98c0"
      },
      "execution_count": 42,
      "outputs": [
        {
          "output_type": "stream",
          "name": "stdout",
          "text": [
            "hasil klasifikasi: \n",
            "               precision    recall  f1-score   support\n",
            "\n",
            "           1       0.78      0.98      0.87        58\n",
            "           2       0.75      0.16      0.26        19\n",
            "\n",
            "    accuracy                           0.78        77\n",
            "   macro avg       0.77      0.57      0.57        77\n",
            "weighted avg       0.77      0.78      0.72        77\n",
            "\n",
            "confusion metrics: \n",
            " [[57  1]\n",
            " [16  3]]\n"
          ]
        }
      ]
    },
    {
      "cell_type": "code",
      "source": [
        "gb.score(X_test, y_test)"
      ],
      "metadata": {
        "colab": {
          "base_uri": "https://localhost:8080/"
        },
        "id": "aLGSryfBD4I1",
        "outputId": "88053efc-3fc6-4dfd-9b98-b6024d05ef9e"
      },
      "execution_count": 43,
      "outputs": [
        {
          "output_type": "execute_result",
          "data": {
            "text/plain": [
              "0.6753246753246753"
            ]
          },
          "metadata": {},
          "execution_count": 43
        }
      ]
    }
  ]
}